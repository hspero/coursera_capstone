{
    "cells": [
        {
            "cell_type": "markdown",
            "metadata": {
                "collapsed": true
            },
            "source": "# Data Description"
        },
        {
            "cell_type": "markdown",
            "metadata": {},
            "source": "The Data for this project was provided by the course and is in a csv file.  It has accident data for the Seattle area from 2004 to current.  The target variable that we will be analyzing will be called severity and it will predict the probability of a severe accident depending on certain variables.  There is a variable called SEVERITY which is a text code and provides an indicator how severe the collision is.  This will be the basis for testing to see how accurate our model is predicting.  There is a variable INCDATE which says the date of the incident which could be one of the variables which could be considered for the analysis. In addition, there are 3 variables which may provide useful information in estimating severity, these cariables are:WEATHER, ROADCOND and LIGHTCOND.  These are all text variables.  These variables can provide insight into the driving conditions and may provide important information on the estimate of SEVERITY.\n\nI will look at clustering analysis on the variables to see how the individual variables and the combination of the variables affects the severity of the accidents using KMeans, visual plots, scipy.optimize, hierarchy for tree analysis(dendro) and DB scan.  I will analyze the data before I begin to ensure there are no outliers, and that the missing information is not influencing the data."
        }
    ],
    "metadata": {
        "kernelspec": {
            "display_name": "Python 3.6",
            "language": "python",
            "name": "python3"
        },
        "language_info": {
            "codemirror_mode": {
                "name": "ipython",
                "version": 3
            },
            "file_extension": ".py",
            "mimetype": "text/x-python",
            "name": "python",
            "nbconvert_exporter": "python",
            "pygments_lexer": "ipython3",
            "version": "3.6.9"
        }
    },
    "nbformat": 4,
    "nbformat_minor": 1
}