{
    "cells": [
        {
            "cell_type": "code",
            "execution_count": 270,
            "metadata": {},
            "outputs": [
                {
                    "name": "stderr",
                    "output_type": "stream",
                    "text": "/opt/conda/envs/Python36/lib/python3.6/site-packages/IPython/core/interactiveshell.py:3020: DtypeWarning: Columns (33) have mixed types. Specify dtype option on import or set low_memory=False.\n  interactivity=interactivity, compiler=compiler, result=result)\n"
                },
                {
                    "data": {
                        "text/html": "<div>\n<style scoped>\n    .dataframe tbody tr th:only-of-type {\n        vertical-align: middle;\n    }\n\n    .dataframe tbody tr th {\n        vertical-align: top;\n    }\n\n    .dataframe thead th {\n        text-align: right;\n    }\n</style>\n<table border=\"1\" class=\"dataframe\">\n  <thead>\n    <tr style=\"text-align: right;\">\n      <th></th>\n      <th>SEVERITYCODE</th>\n      <th>X</th>\n      <th>Y</th>\n      <th>OBJECTID</th>\n      <th>INCKEY</th>\n      <th>COLDETKEY</th>\n      <th>REPORTNO</th>\n      <th>STATUS</th>\n      <th>ADDRTYPE</th>\n      <th>INTKEY</th>\n      <th>...</th>\n      <th>ROADCOND</th>\n      <th>LIGHTCOND</th>\n      <th>PEDROWNOTGRNT</th>\n      <th>SDOTCOLNUM</th>\n      <th>SPEEDING</th>\n      <th>ST_COLCODE</th>\n      <th>ST_COLDESC</th>\n      <th>SEGLANEKEY</th>\n      <th>CROSSWALKKEY</th>\n      <th>HITPARKEDCAR</th>\n    </tr>\n  </thead>\n  <tbody>\n    <tr>\n      <th>0</th>\n      <td>2</td>\n      <td>-122.323148</td>\n      <td>47.703140</td>\n      <td>1</td>\n      <td>1307</td>\n      <td>1307</td>\n      <td>3502005</td>\n      <td>Matched</td>\n      <td>Intersection</td>\n      <td>37475.0</td>\n      <td>...</td>\n      <td>Wet</td>\n      <td>Daylight</td>\n      <td>NaN</td>\n      <td>NaN</td>\n      <td>NaN</td>\n      <td>10</td>\n      <td>Entering at angle</td>\n      <td>0</td>\n      <td>0</td>\n      <td>N</td>\n    </tr>\n    <tr>\n      <th>1</th>\n      <td>1</td>\n      <td>-122.347294</td>\n      <td>47.647172</td>\n      <td>2</td>\n      <td>52200</td>\n      <td>52200</td>\n      <td>2607959</td>\n      <td>Matched</td>\n      <td>Block</td>\n      <td>NaN</td>\n      <td>...</td>\n      <td>Wet</td>\n      <td>Dark - Street Lights On</td>\n      <td>NaN</td>\n      <td>6354039.0</td>\n      <td>NaN</td>\n      <td>11</td>\n      <td>From same direction - both going straight - bo...</td>\n      <td>0</td>\n      <td>0</td>\n      <td>N</td>\n    </tr>\n    <tr>\n      <th>2</th>\n      <td>1</td>\n      <td>-122.334540</td>\n      <td>47.607871</td>\n      <td>3</td>\n      <td>26700</td>\n      <td>26700</td>\n      <td>1482393</td>\n      <td>Matched</td>\n      <td>Block</td>\n      <td>NaN</td>\n      <td>...</td>\n      <td>Dry</td>\n      <td>Daylight</td>\n      <td>NaN</td>\n      <td>4323031.0</td>\n      <td>NaN</td>\n      <td>32</td>\n      <td>One parked--one moving</td>\n      <td>0</td>\n      <td>0</td>\n      <td>N</td>\n    </tr>\n    <tr>\n      <th>3</th>\n      <td>1</td>\n      <td>-122.334803</td>\n      <td>47.604803</td>\n      <td>4</td>\n      <td>1144</td>\n      <td>1144</td>\n      <td>3503937</td>\n      <td>Matched</td>\n      <td>Block</td>\n      <td>NaN</td>\n      <td>...</td>\n      <td>Dry</td>\n      <td>Daylight</td>\n      <td>NaN</td>\n      <td>NaN</td>\n      <td>NaN</td>\n      <td>23</td>\n      <td>From same direction - all others</td>\n      <td>0</td>\n      <td>0</td>\n      <td>N</td>\n    </tr>\n    <tr>\n      <th>4</th>\n      <td>2</td>\n      <td>-122.306426</td>\n      <td>47.545739</td>\n      <td>5</td>\n      <td>17700</td>\n      <td>17700</td>\n      <td>1807429</td>\n      <td>Matched</td>\n      <td>Intersection</td>\n      <td>34387.0</td>\n      <td>...</td>\n      <td>Wet</td>\n      <td>Daylight</td>\n      <td>NaN</td>\n      <td>4028032.0</td>\n      <td>NaN</td>\n      <td>10</td>\n      <td>Entering at angle</td>\n      <td>0</td>\n      <td>0</td>\n      <td>N</td>\n    </tr>\n  </tbody>\n</table>\n<p>5 rows \u00d7 38 columns</p>\n</div>",
                        "text/plain": "   SEVERITYCODE           X          Y  OBJECTID  INCKEY  COLDETKEY REPORTNO  \\\n0             2 -122.323148  47.703140         1    1307       1307  3502005   \n1             1 -122.347294  47.647172         2   52200      52200  2607959   \n2             1 -122.334540  47.607871         3   26700      26700  1482393   \n3             1 -122.334803  47.604803         4    1144       1144  3503937   \n4             2 -122.306426  47.545739         5   17700      17700  1807429   \n\n    STATUS      ADDRTYPE   INTKEY  ... ROADCOND                LIGHTCOND  \\\n0  Matched  Intersection  37475.0  ...      Wet                 Daylight   \n1  Matched         Block      NaN  ...      Wet  Dark - Street Lights On   \n2  Matched         Block      NaN  ...      Dry                 Daylight   \n3  Matched         Block      NaN  ...      Dry                 Daylight   \n4  Matched  Intersection  34387.0  ...      Wet                 Daylight   \n\n  PEDROWNOTGRNT  SDOTCOLNUM SPEEDING ST_COLCODE  \\\n0           NaN         NaN      NaN         10   \n1           NaN   6354039.0      NaN         11   \n2           NaN   4323031.0      NaN         32   \n3           NaN         NaN      NaN         23   \n4           NaN   4028032.0      NaN         10   \n\n                                          ST_COLDESC  SEGLANEKEY  \\\n0                                  Entering at angle           0   \n1  From same direction - both going straight - bo...           0   \n2                             One parked--one moving           0   \n3                   From same direction - all others           0   \n4                                  Entering at angle           0   \n\n   CROSSWALKKEY  HITPARKEDCAR  \n0             0             N  \n1             0             N  \n2             0             N  \n3             0             N  \n4             0             N  \n\n[5 rows x 38 columns]"
                    },
                    "execution_count": 270,
                    "metadata": {},
                    "output_type": "execute_result"
                }
            ],
            "source": "# The code was removed by Watson Studio for sharing."
        },
        {
            "cell_type": "markdown",
            "metadata": {},
            "source": "# Missing Values"
        },
        {
            "cell_type": "code",
            "execution_count": 271,
            "metadata": {},
            "outputs": [
                {
                    "name": "stdout",
                    "output_type": "stream",
                    "text": "<class 'pandas.core.frame.DataFrame'>\nRangeIndex: 194673 entries, 0 to 194672\nData columns (total 38 columns):\nSEVERITYCODE      194673 non-null int64\nX                 189339 non-null float64\nY                 189339 non-null float64\nOBJECTID          194673 non-null int64\nINCKEY            194673 non-null int64\nCOLDETKEY         194673 non-null int64\nREPORTNO          194673 non-null object\nSTATUS            194673 non-null object\nADDRTYPE          192747 non-null object\nINTKEY            65070 non-null float64\nLOCATION          191996 non-null object\nEXCEPTRSNCODE     84811 non-null object\nEXCEPTRSNDESC     5638 non-null object\nSEVERITYCODE.1    194673 non-null int64\nSEVERITYDESC      194673 non-null object\nCOLLISIONTYPE     189769 non-null object\nPERSONCOUNT       194673 non-null int64\nPEDCOUNT          194673 non-null int64\nPEDCYLCOUNT       194673 non-null int64\nVEHCOUNT          194673 non-null int64\nINCDATE           194673 non-null object\nINCDTTM           194673 non-null object\nJUNCTIONTYPE      188344 non-null object\nSDOT_COLCODE      194673 non-null int64\nSDOT_COLDESC      194673 non-null object\nINATTENTIONIND    29805 non-null object\nUNDERINFL         189789 non-null object\nWEATHER           189592 non-null object\nROADCOND          189661 non-null object\nLIGHTCOND         189503 non-null object\nPEDROWNOTGRNT     4667 non-null object\nSDOTCOLNUM        114936 non-null float64\nSPEEDING          9333 non-null object\nST_COLCODE        194655 non-null object\nST_COLDESC        189769 non-null object\nSEGLANEKEY        194673 non-null int64\nCROSSWALKKEY      194673 non-null int64\nHITPARKEDCAR      194673 non-null object\ndtypes: float64(4), int64(12), object(22)\nmemory usage: 56.4+ MB\n"
                }
            ],
            "source": "df_data_8.info()"
        },
        {
            "cell_type": "markdown",
            "metadata": {},
            "source": "There are 194,673 accidents reported and all of them have a Severity code which means there is no missing data.  However, some of the attributes which may be considered for projecting accidents, have some missing data, including ROADCOND and LIGHTCOND, which both are missing approximately 2.5%.  The missing values for Road Condition and Light Condition will be removed later before analysis.\n\nThe date and time parameters INCDATE does not have any missing data."
        },
        {
            "cell_type": "code",
            "execution_count": 272,
            "metadata": {},
            "outputs": [
                {
                    "name": "stdout",
                    "output_type": "stream",
                    "text": "Missing values in ROADCOND: 5012 \nMissing values in LIGHTCOND: 5170 \nMissing values in INCDATE: 0 \nMissing values in SEVERITYCODE: 0\n"
                }
            ],
            "source": "print('Missing values in ROADCOND:', df_data_8[\"ROADCOND\"].isna().sum(),'\\n'\n    'Missing values in LIGHTCOND:', df_data_8[\"LIGHTCOND\"].isna().sum(), '\\n'\n    'Missing values in INCDATE:', df_data_8[\"INCDATE\"].isna().sum(),'\\n'\n    'Missing values in SEVERITYCODE:', df_data_8[\"SEVERITYCODE\"].isna().sum())"
        },
        {
            "cell_type": "markdown",
            "metadata": {},
            "source": "# Target Value is SEVERITYCODE"
        },
        {
            "cell_type": "markdown",
            "metadata": {},
            "source": "The Target Value of SEVERITYCODE indicates the value 1 if there is an accident with property damage and 2 if there is injury. Approximately 30% of the accidents on file are injury related."
        },
        {
            "cell_type": "code",
            "execution_count": 312,
            "metadata": {},
            "outputs": [
                {
                    "name": "stdout",
                    "output_type": "stream",
                    "text": "<class 'pandas.core.frame.DataFrame'>\nRangeIndex: 194673 entries, 0 to 194672\nData columns (total 38 columns):\nSEVERITYCODE      194673 non-null int64\nX                 189339 non-null float64\nY                 189339 non-null float64\nOBJECTID          194673 non-null int64\nINCKEY            194673 non-null int64\nCOLDETKEY         194673 non-null int64\nREPORTNO          194673 non-null object\nSTATUS            194673 non-null object\nADDRTYPE          192747 non-null object\nINTKEY            65070 non-null float64\nLOCATION          191996 non-null object\nEXCEPTRSNCODE     84811 non-null object\nEXCEPTRSNDESC     5638 non-null object\nSEVERITYCODE.1    194673 non-null int64\nSEVERITYDESC      194673 non-null object\nCOLLISIONTYPE     189769 non-null object\nPERSONCOUNT       194673 non-null int64\nPEDCOUNT          194673 non-null int64\nPEDCYLCOUNT       194673 non-null int64\nVEHCOUNT          194673 non-null int64\nINCDATE           194673 non-null object\nINCDTTM           194673 non-null object\nJUNCTIONTYPE      188344 non-null object\nSDOT_COLCODE      194673 non-null int64\nSDOT_COLDESC      194673 non-null object\nINATTENTIONIND    29805 non-null object\nUNDERINFL         189789 non-null object\nWEATHER           189592 non-null object\nROADCOND          189661 non-null object\nLIGHTCOND         189503 non-null object\nPEDROWNOTGRNT     4667 non-null object\nSDOTCOLNUM        114936 non-null float64\nSPEEDING          9333 non-null object\nST_COLCODE        194655 non-null object\nST_COLDESC        189769 non-null object\nSEGLANEKEY        194673 non-null int64\nCROSSWALKKEY      194673 non-null int64\nHITPARKEDCAR      194673 non-null object\ndtypes: float64(4), int64(12), object(22)\nmemory usage: 56.4+ MB\n"
                }
            ],
            "source": "%matplotlib inline\nimport matplotlib as mpl\nimport matplotlib.pyplot as plt\nimport datetime as dt\ndf_data_8.info()\n"
        },
        {
            "cell_type": "code",
            "execution_count": 274,
            "metadata": {},
            "outputs": [
                {
                    "name": "stdout",
                    "output_type": "stream",
                    "text": "Accidents classified in each level of severity:\n1    136485\n2     58188\nName: SEVERITYCODE, dtype: int64\n"
                },
                {
                    "data": {
                        "image/png": "[encoded data removed]",
                        "text/plain": "<Figure size 288x216 with 1 Axes>"
                    },
                    "metadata": {
                        "needs_background": "light"
                    },
                    "output_type": "display_data"
                }
            ],
            "source": "df_data_8['SEVERITYCODE'].hist(figsize=(4,3))\nplt.title('Target feature values')\nplt.xlabel('Severity')\nplt.ylabel('Frequency')\nprint('Accidents classified in each level of severity:')\nprint(df_data_8.SEVERITYCODE.value_counts())"
        },
        {
            "cell_type": "markdown",
            "metadata": {},
            "source": "Retain four Key Variables for the analysis."
        },
        {
            "cell_type": "code",
            "execution_count": 276,
            "metadata": {},
            "outputs": [
                {
                    "data": {
                        "text/html": "<div>\n<style scoped>\n    .dataframe tbody tr th:only-of-type {\n        vertical-align: middle;\n    }\n\n    .dataframe tbody tr th {\n        vertical-align: top;\n    }\n\n    .dataframe thead th {\n        text-align: right;\n    }\n</style>\n<table border=\"1\" class=\"dataframe\">\n  <thead>\n    <tr style=\"text-align: right;\">\n      <th></th>\n      <th>SEVERITYCODE</th>\n      <th>INCDATE</th>\n      <th>ROADCOND</th>\n      <th>LIGHTCOND</th>\n    </tr>\n  </thead>\n  <tbody>\n    <tr>\n      <th>0</th>\n      <td>2</td>\n      <td>2013/03/27 00:00:00+00</td>\n      <td>Wet</td>\n      <td>Daylight</td>\n    </tr>\n    <tr>\n      <th>1</th>\n      <td>1</td>\n      <td>2006/12/20 00:00:00+00</td>\n      <td>Wet</td>\n      <td>Dark - Street Lights On</td>\n    </tr>\n    <tr>\n      <th>2</th>\n      <td>1</td>\n      <td>2004/11/18 00:00:00+00</td>\n      <td>Dry</td>\n      <td>Daylight</td>\n    </tr>\n    <tr>\n      <th>3</th>\n      <td>1</td>\n      <td>2013/03/29 00:00:00+00</td>\n      <td>Dry</td>\n      <td>Daylight</td>\n    </tr>\n    <tr>\n      <th>4</th>\n      <td>2</td>\n      <td>2004/01/28 00:00:00+00</td>\n      <td>Wet</td>\n      <td>Daylight</td>\n    </tr>\n  </tbody>\n</table>\n</div>",
                        "text/plain": "   SEVERITYCODE                 INCDATE ROADCOND                LIGHTCOND\n0             2  2013/03/27 00:00:00+00      Wet                 Daylight\n1             1  2006/12/20 00:00:00+00      Wet  Dark - Street Lights On\n2             1  2004/11/18 00:00:00+00      Dry                 Daylight\n3             1  2013/03/29 00:00:00+00      Dry                 Daylight\n4             2  2004/01/28 00:00:00+00      Wet                 Daylight"
                    },
                    "execution_count": 276,
                    "metadata": {},
                    "output_type": "execute_result"
                }
            ],
            "source": "df_an=df_data_8[['SEVERITYCODE', 'INCDATE','ROADCOND','LIGHTCOND']]\n\ndf_an.head()"
        },
        {
            "cell_type": "markdown",
            "metadata": {},
            "source": "### Transform Road Conditions and Light Conditions from Categorical Data to Numerical Data for Analysis"
        },
        {
            "cell_type": "code",
            "execution_count": 277,
            "metadata": {},
            "outputs": [
                {
                    "data": {
                        "text/plain": "Dry               124510\nWet                47474\nUnknown            15078\nIce                 1209\nSnow/Slush          1004\nOther                132\nStanding Water       115\nSand/Mud/Dirt         75\nOil                   64\nName: ROADCOND, dtype: int64"
                    },
                    "execution_count": 277,
                    "metadata": {},
                    "output_type": "execute_result"
                }
            ],
            "source": "df_an['ROADCOND'].value_counts()"
        },
        {
            "cell_type": "code",
            "execution_count": 278,
            "metadata": {},
            "outputs": [
                {
                    "name": "stderr",
                    "output_type": "stream",
                    "text": "/opt/conda/envs/Python36/lib/python3.6/site-packages/ipykernel/__main__.py:20: SettingWithCopyWarning: \nA value is trying to be set on a copy of a slice from a DataFrame.\nTry using .loc[row_indexer,col_indexer] = value instead\n\nSee the caveats in the documentation: http://pandas.pydata.org/pandas-docs/stable/indexing.html#indexing-view-versus-copy\n"
                },
                {
                    "data": {
                        "text/html": "<div>\n<style scoped>\n    .dataframe tbody tr th:only-of-type {\n        vertical-align: middle;\n    }\n\n    .dataframe tbody tr th {\n        vertical-align: top;\n    }\n\n    .dataframe thead th {\n        text-align: right;\n    }\n</style>\n<table border=\"1\" class=\"dataframe\">\n  <thead>\n    <tr style=\"text-align: right;\">\n      <th></th>\n      <th>SEVERITYCODE</th>\n      <th>INCDATE</th>\n      <th>ROADCOND</th>\n      <th>LIGHTCOND</th>\n      <th>RD_CAT</th>\n    </tr>\n  </thead>\n  <tbody>\n    <tr>\n      <th>0</th>\n      <td>2</td>\n      <td>2013/03/27 00:00:00+00</td>\n      <td>Wet</td>\n      <td>Daylight</td>\n      <td>4.0</td>\n    </tr>\n    <tr>\n      <th>1</th>\n      <td>1</td>\n      <td>2006/12/20 00:00:00+00</td>\n      <td>Wet</td>\n      <td>Dark - Street Lights On</td>\n      <td>4.0</td>\n    </tr>\n    <tr>\n      <th>2</th>\n      <td>1</td>\n      <td>2004/11/18 00:00:00+00</td>\n      <td>Dry</td>\n      <td>Daylight</td>\n      <td>1.0</td>\n    </tr>\n    <tr>\n      <th>3</th>\n      <td>1</td>\n      <td>2013/03/29 00:00:00+00</td>\n      <td>Dry</td>\n      <td>Daylight</td>\n      <td>1.0</td>\n    </tr>\n    <tr>\n      <th>4</th>\n      <td>2</td>\n      <td>2004/01/28 00:00:00+00</td>\n      <td>Wet</td>\n      <td>Daylight</td>\n      <td>4.0</td>\n    </tr>\n  </tbody>\n</table>\n</div>",
                        "text/plain": "   SEVERITYCODE                 INCDATE ROADCOND                LIGHTCOND  \\\n0             2  2013/03/27 00:00:00+00      Wet                 Daylight   \n1             1  2006/12/20 00:00:00+00      Wet  Dark - Street Lights On   \n2             1  2004/11/18 00:00:00+00      Dry                 Daylight   \n3             1  2013/03/29 00:00:00+00      Dry                 Daylight   \n4             2  2004/01/28 00:00:00+00      Wet                 Daylight   \n\n   RD_CAT  \n0     4.0  \n1     4.0  \n2     1.0  \n3     1.0  \n4     4.0  "
                    },
                    "execution_count": 278,
                    "metadata": {},
                    "output_type": "execute_result"
                }
            ],
            "source": "def RC_to_numeric(x):\n    if x=='Dry':\n        return 1\n    if x=='Sand/Mud/Dirt':\n        return 2\n    if x=='Standing Water':\n        return 3\n    if x=='Unknown':\n        return 3\n    if x=='Other':\n        return 3\n    if x=='Wet':\n        return 4\n    if x=='Snow/Slush':\n        return 5\n    if x=='Ice':\n        return 6\n    if x=='Oil':\n        return 6\ndf_an['RD_CAT'] = df_an['ROADCOND'].apply(RC_to_numeric)\ndf_an.head()\n    "
        },
        {
            "cell_type": "code",
            "execution_count": 279,
            "metadata": {},
            "outputs": [
                {
                    "data": {
                        "text/plain": "1.0    124510\n4.0     47474\n3.0     15325\n6.0      1273\n5.0      1004\n2.0        75\nName: RD_CAT, dtype: int64"
                    },
                    "execution_count": 279,
                    "metadata": {},
                    "output_type": "execute_result"
                }
            ],
            "source": "df_an['RD_CAT'].value_counts()"
        },
        {
            "cell_type": "code",
            "execution_count": 280,
            "metadata": {},
            "outputs": [
                {
                    "data": {
                        "text/plain": "Daylight                    116137\nDark - Street Lights On      48507\nUnknown                      13473\nDusk                          5902\nDawn                          2502\nDark - No Street Lights       1537\nDark - Street Lights Off      1199\nOther                          235\nDark - Unknown Lighting         11\nName: LIGHTCOND, dtype: int64"
                    },
                    "execution_count": 280,
                    "metadata": {},
                    "output_type": "execute_result"
                }
            ],
            "source": "df_an['LIGHTCOND'].value_counts()\n"
        },
        {
            "cell_type": "code",
            "execution_count": 281,
            "metadata": {},
            "outputs": [
                {
                    "name": "stderr",
                    "output_type": "stream",
                    "text": "/opt/conda/envs/Python36/lib/python3.6/site-packages/ipykernel/__main__.py:20: SettingWithCopyWarning: \nA value is trying to be set on a copy of a slice from a DataFrame.\nTry using .loc[row_indexer,col_indexer] = value instead\n\nSee the caveats in the documentation: http://pandas.pydata.org/pandas-docs/stable/indexing.html#indexing-view-versus-copy\n"
                },
                {
                    "data": {
                        "text/html": "<div>\n<style scoped>\n    .dataframe tbody tr th:only-of-type {\n        vertical-align: middle;\n    }\n\n    .dataframe tbody tr th {\n        vertical-align: top;\n    }\n\n    .dataframe thead th {\n        text-align: right;\n    }\n</style>\n<table border=\"1\" class=\"dataframe\">\n  <thead>\n    <tr style=\"text-align: right;\">\n      <th></th>\n      <th>SEVERITYCODE</th>\n      <th>INCDATE</th>\n      <th>ROADCOND</th>\n      <th>LIGHTCOND</th>\n      <th>RD_CAT</th>\n      <th>LC_CAT</th>\n    </tr>\n  </thead>\n  <tbody>\n    <tr>\n      <th>0</th>\n      <td>2</td>\n      <td>2013/03/27 00:00:00+00</td>\n      <td>Wet</td>\n      <td>Daylight</td>\n      <td>4.0</td>\n      <td>1.0</td>\n    </tr>\n    <tr>\n      <th>1</th>\n      <td>1</td>\n      <td>2006/12/20 00:00:00+00</td>\n      <td>Wet</td>\n      <td>Dark - Street Lights On</td>\n      <td>4.0</td>\n      <td>3.0</td>\n    </tr>\n    <tr>\n      <th>2</th>\n      <td>1</td>\n      <td>2004/11/18 00:00:00+00</td>\n      <td>Dry</td>\n      <td>Daylight</td>\n      <td>1.0</td>\n      <td>1.0</td>\n    </tr>\n    <tr>\n      <th>3</th>\n      <td>1</td>\n      <td>2013/03/29 00:00:00+00</td>\n      <td>Dry</td>\n      <td>Daylight</td>\n      <td>1.0</td>\n      <td>1.0</td>\n    </tr>\n    <tr>\n      <th>4</th>\n      <td>2</td>\n      <td>2004/01/28 00:00:00+00</td>\n      <td>Wet</td>\n      <td>Daylight</td>\n      <td>4.0</td>\n      <td>1.0</td>\n    </tr>\n  </tbody>\n</table>\n</div>",
                        "text/plain": "   SEVERITYCODE                 INCDATE ROADCOND                LIGHTCOND  \\\n0             2  2013/03/27 00:00:00+00      Wet                 Daylight   \n1             1  2006/12/20 00:00:00+00      Wet  Dark - Street Lights On   \n2             1  2004/11/18 00:00:00+00      Dry                 Daylight   \n3             1  2013/03/29 00:00:00+00      Dry                 Daylight   \n4             2  2004/01/28 00:00:00+00      Wet                 Daylight   \n\n   RD_CAT  LC_CAT  \n0     4.0     1.0  \n1     4.0     3.0  \n2     1.0     1.0  \n3     1.0     1.0  \n4     4.0     1.0  "
                    },
                    "execution_count": 281,
                    "metadata": {},
                    "output_type": "execute_result"
                }
            ],
            "source": "def LC_to_numeric(x):\n    if x=='Daylight':\n        return 1\n    if x=='Dusk':\n        return 2\n    if x=='Dawn':\n        return 2\n    if x=='Dark - Street Lights On':\n        return 3\n    if x=='Dark - No Street Lights':\n        return 3\n    if x=='Dark - Street Lights Off':\n        return 3\n    if x=='Dark - Unknown Lighting':\n        return 3\n    if x=='Other':\n        return 2\n    if x=='Unknown':\n        return 2\ndf_an['LC_CAT'] = df_an['LIGHTCOND'].apply(LC_to_numeric)\ndf_an.head()\n    "
        },
        {
            "cell_type": "markdown",
            "metadata": {},
            "source": "### Remove the rows with missing data in Road Conditions and/or Light Conditions"
        },
        {
            "cell_type": "code",
            "execution_count": 282,
            "metadata": {},
            "outputs": [
                {
                    "name": "stdout",
                    "output_type": "stream",
                    "text": "<class 'pandas.core.frame.DataFrame'>\nInt64Index: 189443 entries, 0 to 194672\nData columns (total 6 columns):\nSEVERITYCODE    189443 non-null int64\nINCDATE         189443 non-null object\nROADCOND        189443 non-null object\nLIGHTCOND       189443 non-null object\nRD_CAT          189443 non-null float64\nLC_CAT          189443 non-null float64\ndtypes: float64(2), int64(1), object(3)\nmemory usage: 10.1+ MB\n"
                },
                {
                    "name": "stderr",
                    "output_type": "stream",
                    "text": "/opt/conda/envs/Python36/lib/python3.6/site-packages/ipykernel/__main__.py:3: SettingWithCopyWarning: \nA value is trying to be set on a copy of a slice from a DataFrame\n\nSee the caveats in the documentation: http://pandas.pydata.org/pandas-docs/stable/indexing.html#indexing-view-versus-copy\n  app.launch_new_instance()\n"
                }
            ],
            "source": "import pandas as pd\nimport numpy as np\ndf_an.dropna(subset=[\"RD_CAT\",\"LC_CAT\"],inplace=True)\ndf_an.info()"
        },
        {
            "cell_type": "code",
            "execution_count": 283,
            "metadata": {
                "scrolled": false
            },
            "outputs": [
                {
                    "name": "stderr",
                    "output_type": "stream",
                    "text": "/opt/conda/envs/Python36/lib/python3.6/site-packages/ipykernel/__main__.py:2: SettingWithCopyWarning: \nA value is trying to be set on a copy of a slice from a DataFrame.\nTry using .loc[row_indexer,col_indexer] = value instead\n\nSee the caveats in the documentation: http://pandas.pydata.org/pandas-docs/stable/indexing.html#indexing-view-versus-copy\n  from ipykernel import kernelapp as app\n"
                },
                {
                    "name": "stdout",
                    "output_type": "stream",
                    "text": "<class 'pandas.core.frame.DataFrame'>\nInt64Index: 189443 entries, 0 to 194672\nData columns (total 6 columns):\nSEVERITYCODE    189443 non-null int64\nINCDATE         189443 non-null object\nROADCOND        189443 non-null object\nLIGHTCOND       189443 non-null object\nRD_CAT          189443 non-null int64\nLC_CAT          189443 non-null int64\ndtypes: int64(3), object(3)\nmemory usage: 10.1+ MB\n"
                },
                {
                    "name": "stderr",
                    "output_type": "stream",
                    "text": "/opt/conda/envs/Python36/lib/python3.6/site-packages/ipykernel/__main__.py:3: SettingWithCopyWarning: \nA value is trying to be set on a copy of a slice from a DataFrame.\nTry using .loc[row_indexer,col_indexer] = value instead\n\nSee the caveats in the documentation: http://pandas.pydata.org/pandas-docs/stable/indexing.html#indexing-view-versus-copy\n  app.launch_new_instance()\n"
                }
            ],
            "source": "\ndf_an['RD_CAT'] = pd.to_numeric(df_an['RD_CAT'], errors='coerce')\ndf_an['LC_CAT'] = pd.to_numeric(df_an['LC_CAT'], errors='coerce')\n#df_an[[\"RD_CAT\", \"LC_CAT\"]] = df_an[[\"RD_CAT\", \"LC_CAT\"]].apply(pd.to_numeric, errors=coerce)\n#df_an=df_an.astype({\"RD_CAT\":'int', \"LC_CAT\":'int'})\n#df_an['RD_CAT'] = df_an['RD_CAT'].apply(np.int64) \n#pd.to_numeric(y, downcast='signed')\ndf_an = df_an.dropna(subset=['RD_CAT'])\ndf_an = df_an.dropna(subset=['LC_CAT'])\n\ndf_an['RD_CAT'] = df_an['RD_CAT'].astype(int)\ndf_an['LC_CAT'] = df_an['LC_CAT'].astype(int)\n\ndf_an.info()"
        },
        {
            "cell_type": "markdown",
            "metadata": {},
            "source": "\n"
        },
        {
            "cell_type": "markdown",
            "metadata": {},
            "source": "### Review the Year and Month data"
        },
        {
            "cell_type": "code",
            "execution_count": 284,
            "metadata": {
                "scrolled": true
            },
            "outputs": [],
            "source": "import datetime as dt\n\ndate=df_an\n\ndf_an['INCDATE'] = df_an['INCDATE'].apply(lambda x: pd.Timestamp(x))\ndf_an['year'] = df_an.INCDATE.dt.year\ndf_an['month'] = df_an.INCDATE.dt.month\ndf_month=date.copy()\n"
        },
        {
            "cell_type": "markdown",
            "metadata": {},
            "source": "Graph the yearly data to ensure that there is not a huge drop down or irreguality with older data that should be removed(drop in 2020 is because it is a partial year)."
        },
        {
            "cell_type": "code",
            "execution_count": 285,
            "metadata": {},
            "outputs": [
                {
                    "data": {
                        "text/plain": "<matplotlib.legend.Legend at 0x7fe863fdd9b0>"
                    },
                    "execution_count": 285,
                    "metadata": {},
                    "output_type": "execute_result"
                },
                {
                    "data": {
                        "image/png": "[encoded data removed]",
                        "text/plain": "<Figure size 720x288 with 1 Axes>"
                    },
                    "metadata": {
                        "needs_background": "light"
                    },
                    "output_type": "display_data"
                }
            ],
            "source": "import pandas as pd\ndf_an.sort_values(by ='year', inplace=True)\n\n\nyearly = df_an[['year', 'SEVERITYCODE']].groupby('year').count()\nyearly['SEVERITYCODE'].plot.line(figsize=(10,4), marker='o', linewidth=0.5, color='orange', label='Total')\nplt.title('Accidents per year')\nplt.xticks(range(2004,2020))\nplt.xlim(2004,2020)\nplt.ylabel('Accidents')\nplt.legend()"
        },
        {
            "cell_type": "markdown",
            "metadata": {},
            "source": "Graph monthly data to view monthly variability.  If so, should be used in the forecasting model."
        },
        {
            "cell_type": "code",
            "execution_count": 286,
            "metadata": {},
            "outputs": [
                {
                    "data": {
                        "text/plain": "<matplotlib.legend.Legend at 0x7fe894a0e9e8>"
                    },
                    "execution_count": 286,
                    "metadata": {},
                    "output_type": "execute_result"
                },
                {
                    "data": {
                        "image/png": "[encoded data removed]",
                        "text/plain": "<Figure size 720x288 with 1 Axes>"
                    },
                    "metadata": {
                        "needs_background": "light"
                    },
                    "output_type": "display_data"
                }
            ],
            "source": "df_month.head()\ndf_month.sort_values(by ='month', inplace=True)\ndf_month.set_index([\"month\",\"SEVERITYCODE\"]).count(level=\"month\")\n\nmonthly = df_month[['month', 'SEVERITYCODE']].groupby('month').count()\nmonthly['SEVERITYCODE'].plot.line(figsize=(10,4), marker='o', linewidth=0.5, color='red', label='Total')\nplt.title('Accidents per month')\nplt.xticks(range(1,12))\nplt.xlim(1,12)\nplt.ylabel('Accidents')\nplt.legend()\n"
        },
        {
            "cell_type": "markdown",
            "metadata": {},
            "source": "Determine how balanced the cleaned data set is:"
        },
        {
            "cell_type": "code",
            "execution_count": 287,
            "metadata": {},
            "outputs": [
                {
                    "data": {
                        "text/plain": "1    132359\n2     57084\nName: SEVERITYCODE, dtype: int64"
                    },
                    "execution_count": 287,
                    "metadata": {},
                    "output_type": "execute_result"
                }
            ],
            "source": "df_an[\"SEVERITYCODE\"].value_counts()"
        },
        {
            "cell_type": "markdown",
            "metadata": {},
            "source": "The Dataset is very unbalanced as there are almost 3 times as many SEVERITY CODE 1'S as there are SEVERITY CODE 2's so the dataset will need to be balanced for sampling purposes."
        },
        {
            "cell_type": "markdown",
            "metadata": {},
            "source": "### BALANCING THE DATASET"
        },
        {
            "cell_type": "markdown",
            "metadata": {},
            "source": "The target variable SEVERITYCODE is unbalanced (70% Type 1 and 30% Type 2)\n\nWe can fix this by downsampling the majority class.\n\nDown-sample the majority class involves randomly removing observations from the majority class to prevent its signal from dominating the learning algorithm.\n\nThe most common method for doing this is resampling without replacement.\n\nHere are the steps:\n\n1.First, separate observations from each class into different DataFrames.\n2.Next, resample the majority class without replacement, setting the number of samples to match that of the minority class.\n3.Finally, combine the down-sampled majority class DataFrame with the original minority class DataFrame.\n"
        },
        {
            "cell_type": "code",
            "execution_count": 288,
            "metadata": {},
            "outputs": [],
            "source": "from sklearn.utils import resample"
        },
        {
            "cell_type": "code",
            "execution_count": 289,
            "metadata": {},
            "outputs": [
                {
                    "data": {
                        "text/plain": "2    57084\n1    57084\nName: SEVERITYCODE, dtype: int64"
                    },
                    "execution_count": 289,
                    "metadata": {},
                    "output_type": "execute_result"
                }
            ],
            "source": "# Seperate majority and minority classes\ndf_an_maj = df_an[df_an.SEVERITYCODE==1]\ndf_an_min = df_an[df_an.SEVERITYCODE==2]\n\n#Downsample majority class\ndf_an_maj_downsampled = resample(df_an_maj,\n                                        replace=False,\n                                        n_samples=57084,\n                                        random_state=5)\n\n# Combine minority class with downsampled majority class\ndf_an_bal = pd.concat([df_an_maj_downsampled, df_an_min])\n\n# Display new class counts\ndf_an_bal.SEVERITYCODE.value_counts()"
        },
        {
            "cell_type": "code",
            "execution_count": 290,
            "metadata": {},
            "outputs": [
                {
                    "data": {
                        "text/plain": "<seaborn.axisgrid.PairGrid at 0x7fe863ffaa58>"
                    },
                    "execution_count": 290,
                    "metadata": {},
                    "output_type": "execute_result"
                },
                {
                    "data": {
                        "image/png": "[encoded data removed]",
                        "text/plain": "<Figure size 900x900 with 30 Axes>"
                    },
                    "metadata": {
                        "needs_background": "light"
                    },
                    "output_type": "display_data"
                }
            ],
            "source": "import seaborn as sns\nsns.pairplot(df_an)"
        },
        {
            "cell_type": "markdown",
            "metadata": {},
            "source": "# DATA ANALYSIS AND METHODOLOGY"
        },
        {
            "cell_type": "code",
            "execution_count": 291,
            "metadata": {},
            "outputs": [],
            "source": "import itertools\nimport numpy as np\nimport pandas as pd\nimport matplotlib.pyplot as plt\nfrom matplotlib.ticker import NullFormatter\nimport matplotlib.ticker as ticker\nimport scipy.optimize as opt\nfrom sklearn import preprocessing\n%matplotlib inline\n"
        },
        {
            "cell_type": "code",
            "execution_count": 292,
            "metadata": {},
            "outputs": [
                {
                    "name": "stdout",
                    "output_type": "stream",
                    "text": "<class 'pandas.core.frame.DataFrame'>\nInt64Index: 189443 entries, 10499 to 186698\nData columns (total 8 columns):\nSEVERITYCODE    189443 non-null int64\nINCDATE         189443 non-null datetime64[ns, UTC]\nROADCOND        189443 non-null object\nLIGHTCOND       189443 non-null object\nRD_CAT          189443 non-null int64\nLC_CAT          189443 non-null int64\nyear            189443 non-null int64\nmonth           189443 non-null int64\ndtypes: datetime64[ns, UTC](1), int64(5), object(2)\nmemory usage: 18.0+ MB\n"
                },
                {
                    "data": {
                        "text/html": "<div>\n<style scoped>\n    .dataframe tbody tr th:only-of-type {\n        vertical-align: middle;\n    }\n\n    .dataframe tbody tr th {\n        vertical-align: top;\n    }\n\n    .dataframe thead th {\n        text-align: right;\n    }\n</style>\n<table border=\"1\" class=\"dataframe\">\n  <thead>\n    <tr style=\"text-align: right;\">\n      <th></th>\n      <th>SEVERITYCODE</th>\n      <th>RD_CAT</th>\n      <th>LC_CAT</th>\n      <th>year</th>\n      <th>month</th>\n    </tr>\n  </thead>\n  <tbody>\n    <tr>\n      <th>SEVERITYCODE</th>\n      <td>1.000000</td>\n      <td>-0.035332</td>\n      <td>-0.060173</td>\n      <td>0.022860</td>\n      <td>0.003718</td>\n    </tr>\n    <tr>\n      <th>RD_CAT</th>\n      <td>-0.035332</td>\n      <td>1.000000</td>\n      <td>0.193966</td>\n      <td>-0.002866</td>\n      <td>0.014890</td>\n    </tr>\n    <tr>\n      <th>LC_CAT</th>\n      <td>-0.060173</td>\n      <td>0.193966</td>\n      <td>1.000000</td>\n      <td>-0.010254</td>\n      <td>0.039294</td>\n    </tr>\n    <tr>\n      <th>year</th>\n      <td>0.022860</td>\n      <td>-0.002866</td>\n      <td>-0.010254</td>\n      <td>1.000000</td>\n      <td>-0.003237</td>\n    </tr>\n    <tr>\n      <th>month</th>\n      <td>0.003718</td>\n      <td>0.014890</td>\n      <td>0.039294</td>\n      <td>-0.003237</td>\n      <td>1.000000</td>\n    </tr>\n  </tbody>\n</table>\n</div>",
                        "text/plain": "              SEVERITYCODE    RD_CAT    LC_CAT      year     month\nSEVERITYCODE      1.000000 -0.035332 -0.060173  0.022860  0.003718\nRD_CAT           -0.035332  1.000000  0.193966 -0.002866  0.014890\nLC_CAT           -0.060173  0.193966  1.000000 -0.010254  0.039294\nyear              0.022860 -0.002866 -0.010254  1.000000 -0.003237\nmonth             0.003718  0.014890  0.039294 -0.003237  1.000000"
                    },
                    "execution_count": 292,
                    "metadata": {},
                    "output_type": "execute_result"
                }
            ],
            "source": "#Look at Individual Correlations of the Variable to SEVERITYCODE\ndf_an.info()\ndf_an.corr(method='kendall')"
        },
        {
            "cell_type": "markdown",
            "metadata": {},
            "source": "The individual correlations are not strong (close to 0) so will utilize the machine learning methods to forecast.\n\nThe data is now ready to be analyzed by the machine learning models.\n\nWe will use the following models (They are described below):\n\nK-Nearest Neighbor (KNN)\n\nDecision Tree\n\nRandom Forest Model\n\nLogistic Regression"
        },
        {
            "cell_type": "markdown",
            "metadata": {},
            "source": ""
        },
        {
            "cell_type": "code",
            "execution_count": 293,
            "metadata": {
                "scrolled": true
            },
            "outputs": [
                {
                    "data": {
                        "text/html": "<div>\n<style scoped>\n    .dataframe tbody tr th:only-of-type {\n        vertical-align: middle;\n    }\n\n    .dataframe tbody tr th {\n        vertical-align: top;\n    }\n\n    .dataframe thead th {\n        text-align: right;\n    }\n</style>\n<table border=\"1\" class=\"dataframe\">\n  <thead>\n    <tr style=\"text-align: right;\">\n      <th></th>\n      <th>SEVERITYCODE</th>\n      <th>INCDATE</th>\n      <th>ROADCOND</th>\n      <th>LIGHTCOND</th>\n      <th>RD_CAT</th>\n      <th>LC_CAT</th>\n      <th>year</th>\n      <th>month</th>\n    </tr>\n  </thead>\n  <tbody>\n    <tr>\n      <th>78944</th>\n      <td>1</td>\n      <td>2009-06-24 00:00:00+00:00</td>\n      <td>Unknown</td>\n      <td>Unknown</td>\n      <td>3</td>\n      <td>2</td>\n      <td>2009</td>\n      <td>6</td>\n    </tr>\n    <tr>\n      <th>36880</th>\n      <td>1</td>\n      <td>2006-01-24 00:00:00+00:00</td>\n      <td>Dry</td>\n      <td>Daylight</td>\n      <td>1</td>\n      <td>1</td>\n      <td>2006</td>\n      <td>1</td>\n    </tr>\n    <tr>\n      <th>66016</th>\n      <td>1</td>\n      <td>2008-08-18 00:00:00+00:00</td>\n      <td>Wet</td>\n      <td>Daylight</td>\n      <td>4</td>\n      <td>1</td>\n      <td>2008</td>\n      <td>8</td>\n    </tr>\n    <tr>\n      <th>106853</th>\n      <td>1</td>\n      <td>2012-05-21 00:00:00+00:00</td>\n      <td>Wet</td>\n      <td>Daylight</td>\n      <td>4</td>\n      <td>1</td>\n      <td>2012</td>\n      <td>5</td>\n    </tr>\n    <tr>\n      <th>130666</th>\n      <td>1</td>\n      <td>2014-08-14 00:00:00+00:00</td>\n      <td>Dry</td>\n      <td>Dark - Street Lights On</td>\n      <td>1</td>\n      <td>3</td>\n      <td>2014</td>\n      <td>8</td>\n    </tr>\n  </tbody>\n</table>\n</div>",
                        "text/plain": "        SEVERITYCODE                   INCDATE ROADCOND  \\\n78944              1 2009-06-24 00:00:00+00:00  Unknown   \n36880              1 2006-01-24 00:00:00+00:00      Dry   \n66016              1 2008-08-18 00:00:00+00:00      Wet   \n106853             1 2012-05-21 00:00:00+00:00      Wet   \n130666             1 2014-08-14 00:00:00+00:00      Dry   \n\n                      LIGHTCOND  RD_CAT  LC_CAT  year  month  \n78944                   Unknown       3       2  2009      6  \n36880                  Daylight       1       1  2006      1  \n66016                  Daylight       4       1  2008      8  \n106853                 Daylight       4       1  2012      5  \n130666  Dark - Street Lights On       1       3  2014      8  "
                    },
                    "execution_count": 293,
                    "metadata": {},
                    "output_type": "execute_result"
                }
            ],
            "source": "df_an_bal.head()"
        },
        {
            "cell_type": "markdown",
            "metadata": {},
            "source": "## Defining X and Y and Normalize the Dataset"
        },
        {
            "cell_type": "code",
            "execution_count": 294,
            "metadata": {},
            "outputs": [
                {
                    "name": "stderr",
                    "output_type": "stream",
                    "text": "/opt/conda/envs/Python36/lib/python3.6/site-packages/sklearn/utils/validation.py:595: DataConversionWarning: Data with input dtype int64 was converted to float64 by StandardScaler.\n  warnings.warn(msg, DataConversionWarning)\n"
                }
            ],
            "source": "import itertools\nimport numpy as np\nimport pandas as pd\nimport matplotlib.pyplot as plt\nfrom matplotlib.ticker import NullFormatter\nimport matplotlib.ticker as ticker\nimport scipy.optimize as opt\nfrom sklearn import preprocessing\n%matplotlib inline\n\nX=np.asarray(df_an_bal[['RD_CAT', 'LC_CAT', 'month']])\nX[0:5]\ny=np.asarray(df_an_bal['SEVERITYCODE'])\ny[0:5]\n\nnp.array(np.unique(y, return_counts=True)).T\ny.shape\n\n\nX=preprocessing.StandardScaler().fit(X).transform(X.astype(float))\n"
        },
        {
            "cell_type": "markdown",
            "metadata": {},
            "source": "### Train/Test Split"
        },
        {
            "cell_type": "markdown",
            "metadata": {},
            "source": "The analysis will use 30% of the data for testing and 70% for training."
        },
        {
            "cell_type": "code",
            "execution_count": 295,
            "metadata": {},
            "outputs": [
                {
                    "name": "stdout",
                    "output_type": "stream",
                    "text": "Train set: (79917, 3) (79917,)\nTest set: (34251, 3) (34251,)\n"
                }
            ],
            "source": "\nfrom sklearn.model_selection import train_test_split \nX_train, X_test, y_train, y_test=train_test_split(X,y,test_size=0.3, random_state=4)\n\nprint('Train set:', X_train.shape,y_train.shape)\nprint('Test set:',X_test.shape, y_test.shape)\n\n"
        },
        {
            "cell_type": "markdown",
            "metadata": {},
            "source": "### Methodology"
        },
        {
            "cell_type": "markdown",
            "metadata": {},
            "source": "1) K-Nearest Neighbor (KNN)\nKNN will help us predict the SEVERITYCODE of an outcome by finding the most similar data point within k distance.\n\n2) Decision Tree\nA decision tree model provides a layout of all possible outcomes so we can fully analyze the consequences of each decision. The decision tree observes all possible outcomes of different weather conditions. The Randon Forest model is also used to try and improve the accuracy.\n\n3) Logistic Regression\nBecause our dataset only provides us with two SEVERITYCODE outcomes, the model will only predict one of those two classes(binary)therefore -  logistic regression.\n\n"
        },
        {
            "cell_type": "markdown",
            "metadata": {},
            "source": "### K-Nearest Neighbors (KNN)"
        },
        {
            "cell_type": "raw",
            "metadata": {},
            "source": "Search for the best performing K and then fit the model with the training set and evaluate it with the test set.\nDue to the size of the dataset, I have reduced the training and evaluation sets in half in order to optimize the process of searching for the optimum K."
        },
        {
            "cell_type": "code",
            "execution_count": 296,
            "metadata": {},
            "outputs": [
                {
                    "name": "stdout",
                    "output_type": "stream",
                    "text": "Best performing K is 13 with an accuracy of 0.5390050216045779\n"
                }
            ],
            "source": "from sklearn.neighbors import KNeighborsClassifier\nfrom sklearn.metrics import jaccard_similarity_score, classification_report, precision_score, recall_score, accuracy_score\n\n#Search for the optimum K\n\ntt = X_train.shape[0]\ntv = X_test.shape[0]\nX_train[int(tt*0.5):].shape[0], X_test[int(tv*0.5):].shape[0]\n\nks = 17\nmean_acc = np.zeros(ks-1)\nstd_acc = np.zeros(ks-1)\n\nfor n in range(1,ks):\n    neigh = KNeighborsClassifier(n_neighbors = n).fit(X_train[int(tt*0.5):],y_train[int(tt*0.5):])\n    KyHat = neigh.predict(X_test[int(tv*0.5):])\n    mean_acc[n-1] = accuracy_score(y_test[int(tv*0.5):],KyHat)\n    std_acc[n-1] = np.std(KyHat==y_test[int(tv*0.5):])/np.sqrt(KyHat.shape[0])\nprint('Best performing K is '+ str(mean_acc.argmax()+1) + ' with an accuracy of ' +str(mean_acc.max()))\n\n\n"
        },
        {
            "cell_type": "code",
            "execution_count": null,
            "metadata": {},
            "outputs": [],
            "source": ""
        },
        {
            "cell_type": "markdown",
            "metadata": {},
            "source": "Build the KNN Model"
        },
        {
            "cell_type": "code",
            "execution_count": 297,
            "metadata": {},
            "outputs": [],
            "source": "\n\nfrom sklearn.neighbors import KNeighborsClassifier\nk=13\n\n"
        },
        {
            "cell_type": "code",
            "execution_count": 298,
            "metadata": {},
            "outputs": [],
            "source": "#Train Model and Predict"
        },
        {
            "cell_type": "code",
            "execution_count": 299,
            "metadata": {},
            "outputs": [
                {
                    "data": {
                        "text/plain": "KNeighborsClassifier(algorithm='auto', leaf_size=30, metric='minkowski',\n           metric_params=None, n_jobs=None, n_neighbors=13, p=2,\n           weights='uniform')"
                    },
                    "execution_count": 299,
                    "metadata": {},
                    "output_type": "execute_result"
                }
            ],
            "source": "neigh = KNeighborsClassifier(n_neighbors=k).fit(X_train,y_train)\nneigh"
        },
        {
            "cell_type": "code",
            "execution_count": 300,
            "metadata": {},
            "outputs": [
                {
                    "name": "stdout",
                    "output_type": "stream",
                    "text": "[2 1 1 1 1]\n[1 1 2 1 1]\n"
                }
            ],
            "source": "KyHat = neigh.predict(X_test)\nprint(KyHat[0:5])\nprint(y_test[0:5])\n"
        },
        {
            "cell_type": "markdown",
            "metadata": {},
            "source": "### Decision Tree Analysis"
        },
        {
            "cell_type": "code",
            "execution_count": 301,
            "metadata": {},
            "outputs": [
                {
                    "data": {
                        "text/plain": "DecisionTreeClassifier(class_weight=None, criterion='entropy', max_depth=6,\n            max_features=None, max_leaf_nodes=None,\n            min_impurity_decrease=0.0, min_impurity_split=None,\n            min_samples_leaf=1, min_samples_split=2,\n            min_weight_fraction_leaf=0.0, presort=False, random_state=None,\n            splitter='best')"
                    },
                    "execution_count": 301,
                    "metadata": {},
                    "output_type": "execute_result"
                }
            ],
            "source": "#Building the Decision Tree\n\nfrom sklearn.tree import DecisionTreeClassifier\nAccTree = DecisionTreeClassifier(criterion=\"entropy\",max_depth=6)\nAccTree\nAccTree.fit(X_train,y_train)"
        },
        {
            "cell_type": "raw",
            "metadata": {},
            "source": "Train Model and Predict"
        },
        {
            "cell_type": "code",
            "execution_count": 302,
            "metadata": {},
            "outputs": [
                {
                    "name": "stdout",
                    "output_type": "stream",
                    "text": "[1 1 2 1 1]\n[2 2 1 2 1]\n"
                }
            ],
            "source": "DTyHat=AccTree.predict(X_test)\nprint(y_test[0:5])\nprint(DTyHat[0:5])"
        },
        {
            "cell_type": "markdown",
            "metadata": {},
            "source": "#### Random Forest Model"
        },
        {
            "cell_type": "markdown",
            "metadata": {},
            "source": "A random forest model may improve the accuracy as it fits a number of decision tree classifiers on various sub-samples of the dataset and uses averaging to improve the predictive accuracy and control over-fitting. The number of decision trees is specified with the n_estimators parameter. An upside of this algorithm is its feature_importances_ atribut, it returns the impurity based feature importance."
        },
        {
            "cell_type": "code",
            "execution_count": 303,
            "metadata": {},
            "outputs": [],
            "source": "from sklearn.ensemble import RandomForestClassifier\n#Evaluation Metrics\nimport time\nfrom sklearn.metrics import accuracy_score, log_loss, jaccard_similarity_score, classification_report\nfrom sklearn.metrics import precision_score, recall_score, roc_curve\n"
        },
        {
            "cell_type": "code",
            "execution_count": 305,
            "metadata": {},
            "outputs": [
                {
                    "name": "stdout",
                    "output_type": "stream",
                    "text": "Jaccard : 0.5559545706694695 \n               precision    recall  f1-score   support\n\n           1       0.59      0.35      0.44     17139\n           2       0.54      0.76      0.63     17112\n\n   micro avg       0.56      0.56      0.56     34251\n   macro avg       0.57      0.56      0.54     34251\nweighted avg       0.57      0.56      0.54     34251\n\n"
                }
            ],
            "source": "#Evaluation\n\nmodel_rf = RandomForestClassifier(n_estimators=10, max_features=3, max_depth =6,criterion='entropy',random_state=0, n_jobs=-1)\nmodel_rf.fit(X_train,y_train)\nRFyHat = model_rf.predict(X_test)\njaccard_rf = jaccard_similarity_score(y_test,RFyHat)\nc_rf = classification_report(y_test,RFyHat)\nprec_rf = precision_score(y_test, RFyHat)\nrec_rf = recall_score(y_test, RFyHat)\nprint('Jaccard :',jaccard_rf,'\\n',\n     c_rf)"
        },
        {
            "cell_type": "markdown",
            "metadata": {},
            "source": "### Logistic Regression\n"
        },
        {
            "cell_type": "code",
            "execution_count": 306,
            "metadata": {},
            "outputs": [
                {
                    "name": "stdout",
                    "output_type": "stream",
                    "text": "Coefficients [[-0.0529887  -0.10601482  0.00974021]]\nIntercept [0.00041173]\n"
                }
            ],
            "source": "#Building the Logistic Regression Model\n\nfrom sklearn.linear_model import LogisticRegression\nfrom sklearn.metrics import confusion_matrix\nfrom sklearn.metrics import r2_score\n\n\nLR=LogisticRegression(C=10,solver='liblinear').fit(X_train,y_train)\nLR\nprint('Coefficients', LR.coef_)\nprint('Intercept', LR.intercept_)"
        },
        {
            "cell_type": "code",
            "execution_count": 307,
            "metadata": {},
            "outputs": [
                {
                    "name": "stdout",
                    "output_type": "stream",
                    "text": "[2 2 1 2 1]\n[1 1 2 1 1]\n"
                }
            ],
            "source": "#Train Model and Predict\n\nLRyHat=LR.predict(X_test)\n#np.array(np.unique(LRyHat, return_counts=True)).T\nprint(LRyHat[0:5])\nprint(y_test[0:5])"
        },
        {
            "cell_type": "code",
            "execution_count": 308,
            "metadata": {},
            "outputs": [
                {
                    "data": {
                        "text/plain": "array([[0.47408492, 0.52591508],\n       [0.47337272, 0.52662728],\n       [0.54720674, 0.45279326],\n       ...,\n       [0.49791765, 0.50208235],\n       [0.47194865, 0.52805135],\n       [0.56446127, 0.43553873]])"
                    },
                    "execution_count": 308,
                    "metadata": {},
                    "output_type": "execute_result"
                }
            ],
            "source": "LRyHat_prob=LR.predict_proba(X_test)\nLRyHat_prob"
        },
        {
            "cell_type": "markdown",
            "metadata": {},
            "source": "# Results and Evaluation"
        },
        {
            "cell_type": "markdown",
            "metadata": {},
            "source": "Accuracy Check of the models\n"
        },
        {
            "cell_type": "markdown",
            "metadata": {},
            "source": "### KNN"
        },
        {
            "cell_type": "code",
            "execution_count": 309,
            "metadata": {},
            "outputs": [
                {
                    "name": "stdout",
                    "output_type": "stream",
                    "text": "Jaccard : 0.5259700446702286 \n               precision    recall  f1-score   support\n\n           1       0.52      0.58      0.55     17139\n           2       0.53      0.47      0.50     17112\n\n   micro avg       0.53      0.53      0.53     34251\n   macro avg       0.53      0.53      0.52     34251\nweighted avg       0.53      0.53      0.52     34251\n\n"
                }
            ],
            "source": "\njaccard_knn = jaccard_similarity_score(y_test,KyHat)\nc_knn = classification_report(y_test,KyHat)\nprec_knn = precision_score(y_test, KyHat)\nrec_knn = recall_score(y_test, KyHat)\nprint('Jaccard :',jaccard_knn,'\\n',\n     c_knn)"
        },
        {
            "cell_type": "markdown",
            "metadata": {},
            "source": "### Decision Tree"
        },
        {
            "cell_type": "code",
            "execution_count": 310,
            "metadata": {},
            "outputs": [
                {
                    "name": "stdout",
                    "output_type": "stream",
                    "text": "Jaccard : 0.5556042159353012 \n               precision    recall  f1-score   support\n\n           1       0.59      0.35      0.44     17139\n           2       0.54      0.76      0.63     17112\n\n   micro avg       0.56      0.56      0.56     34251\n   macro avg       0.57      0.56      0.54     34251\nweighted avg       0.57      0.56      0.54     34251\n\n"
                }
            ],
            "source": "jaccard_rf = jaccard_similarity_score(y_test,DTyHat)\nc_rf = classification_report(y_test,DTyHat)\nprec_rf = precision_score(y_test, DTyHat)\nrec_rf = recall_score(y_test, DTyHat)\nprint('Jaccard :',jaccard_rf,'\\n',\n     c_rf)"
        },
        {
            "cell_type": "markdown",
            "metadata": {},
            "source": "### Logistic Regression"
        },
        {
            "cell_type": "code",
            "execution_count": null,
            "metadata": {},
            "outputs": [],
            "source": "r2_score(LRyHat, y_test)"
        },
        {
            "cell_type": "markdown",
            "metadata": {},
            "source": "The R2 is quite high which shows positive results, however this number includes how accurately SEVERITYCODE 1 is estimated and therefore is not the best number to asses the ability of the Logistic Regression to forecast only SEVERITYCODE 2."
        },
        {
            "cell_type": "code",
            "execution_count": null,
            "metadata": {},
            "outputs": [],
            "source": "from sklearn.metrics import log_loss\nlog_loss(y_test,LRyHat_prob)"
        },
        {
            "cell_type": "code",
            "execution_count": 311,
            "metadata": {},
            "outputs": [
                {
                    "name": "stdout",
                    "output_type": "stream",
                    "text": "Jaccard : 0.5377069282648682 \n               precision    recall  f1-score   support\n\n           1       0.54      0.48      0.51     17139\n           2       0.53      0.59      0.56     17112\n\n   micro avg       0.54      0.54      0.54     34251\n   macro avg       0.54      0.54      0.54     34251\nweighted avg       0.54      0.54      0.54     34251\n\n"
                }
            ],
            "source": "jaccard_lr = jaccard_similarity_score(y_test,LRyHat)\nc_lr = classification_report(y_test,LRyHat)\nprec_lr = precision_score(y_test, LRyHat)\nrec_lr = recall_score(y_test, LRyHat)\nprint('Jaccard :',jaccard_lr,'\\n',\n     c_lr)"
        },
        {
            "cell_type": "markdown",
            "metadata": {},
            "source": "# RESULTS"
        },
        {
            "cell_type": "markdown",
            "metadata": {},
            "source": "Because we are concerned with predicting the serious injuries, we will look at the F scores for the 2 value of SEVERITYCODE and the Recall Score for the 2 value of SEVERITYCODE.  The Recall Score is particularly important because it provides the number of True positives divided by the Total Number that belong to the Positive Group. The Jaccard score is for the accuracy of the combined 1 and 2 SEVERITYCODES.  Therefore a strong prediction of the 1 code would influence to Jaccard Score higher when in fact we only care about the prediction of the 2 code.\n\nThe forecasting results are as follows for SEVERITYCODE 2:\n\n\n                              F1 Score      RECALL\n            KNN                 .50           .47\n            DECISION TREE       .63           .76\n            RANDOM FOREST       .63           .76\n            LOGISTIC REGRESSION .56           .59\n            \n\n\n\n"
        },
        {
            "cell_type": "markdown",
            "metadata": {},
            "source": "The Ransom Foreset (Recall .75 and F1 score .64) is slightly better than the Decision Tree (Recall .75 and F1 Score .63), however both are much better KNN and Logistic Regression with very low Recall scores (.57 and .6 respectively) and much lower F1 scores as well(.55 and .57 respecticvely)"
        },
        {
            "cell_type": "markdown",
            "metadata": {},
            "source": "# DISCUSSION"
        },
        {
            "cell_type": "markdown",
            "metadata": {},
            "source": "The goal of this notebook was to determine if we could calculate a forecast for severe accidents in Seattle based on historical data.  Much of the information was categorical data that was of type 'object'. This is not a data type that can be utilized in forecasting algorithms, so label encoding was used to create new classes that were of numerical data type.\n\nThen there was (a small amount of missing data) in some of the key parameters that was removed.  Finally, the dataset was very imbalanced as class 1 was nearly three times larger than class 2 of the target variable SEVERITYCODE. The solution to this was downsampling the majority class with sklearn's resample tool to match the minority class exactly with 57084 values each.\n\nThe cleaned data was then fed through three ML models; K-Nearest Neighbor, Decision Tree(including Random Forest Model) and Logistic Regression. \n\nEvaluation metrics used to test the accuracy of our models were primarily F1 Score and Recall to determine the best precision for SEVERITYCODE equal to 2 (a severe injury).\n\n"
        },
        {
            "cell_type": "markdown",
            "metadata": {},
            "source": "# CONCLUSION"
        },
        {
            "cell_type": "markdown",
            "metadata": {},
            "source": "This study analyzed the relationship between the severity of an accident and some characteristics which describe the situation that involved the accident including road conditions,lighting and month.  These features all contribute to potential for a severe accident. The analysis compared the results of 4 different classification models to predict whether or not an accident would have a high probability of being severe.  These models have multiple applications in real life such as predicting when potential severe accidents might occur using time of year, road conditions and light conditions and from there measures can be enacted quickly by police/ambulance etc.  In addition, people could use the information to determine if they are at higher risk for a severe accident before they leave the house and make adjustments from there."
        }
    ],
    "metadata": {
        "kernelspec": {
            "display_name": "Python 3.6",
            "language": "python",
            "name": "python3"
        },
        "language_info": {
            "codemirror_mode": {
                "name": "ipython",
                "version": 3
            },
            "file_extension": ".py",
            "mimetype": "text/x-python",
            "name": "python",
            "nbconvert_exporter": "python",
            "pygments_lexer": "ipython3",
            "version": "3.6.9"
        }
    },
    "nbformat": 4,
    "nbformat_minor": 1
}