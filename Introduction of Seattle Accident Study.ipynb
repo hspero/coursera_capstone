{
    "cells": [
        {
            "cell_type": "markdown",
            "metadata": {
                "collapsed": true
            },
            "source": "# Introduction to the Seattle Accident Study"
        },
        {
            "cell_type": "markdown",
            "metadata": {},
            "source": "Every time you get in your car you have the risk of getting into an accident.  In 2017, there were 187 fatal or serious accidents in the Seattle area.  Obviously there are many factors that impact whether an accident occurs, including weather, road conditions, vehicle speed, time of day etc. In addition, some accidents are minor while others are very serious even fatal. The small accidents do not block the roads, however fatal accidents can cause streets to be shut down for an extended period of time.  Obviously this could significantly affect someone who had to get to a meeting or event.  It would be very helpful to be able to determine each time you get in your car, what the risk is of an accident and in particular how severe it will be.  Not only because of the dangers of an accident (especially severe), but also the impact an accident would have on the arrival time. \n\n\nThis study will help potential drivers in the Seattle area determine the risk of a severe or fatal accident each time they go out, depending upon the weather conditions, road conditions and other variables which are to be determined. (The target variable is severity).  In turn, these people could choose to either stay home, proceed with caution, or proceed with their drive presumabley with more time.  In addition, police and ambulance drivers could find this analysis very useful as they could increase the numbers of emergency vehicles on the street during times that show an increase risk of severe accidents.  Finally, the city of Seattle could use the data to post warnings of dangerous driving conditions during periods of time when there is a high potential of severe accidents, in order to encourage everyone to either stay home or drive with more caution.  The ultimate Varibale will be severity"
        }
    ],
    "metadata": {
        "kernelspec": {
            "display_name": "Python 3.6",
            "language": "python",
            "name": "python3"
        },
        "language_info": {
            "codemirror_mode": {
                "name": "ipython",
                "version": 3
            },
            "file_extension": ".py",
            "mimetype": "text/x-python",
            "name": "python",
            "nbconvert_exporter": "python",
            "pygments_lexer": "ipython3",
            "version": "3.6.9"
        }
    },
    "nbformat": 4,
    "nbformat_minor": 1
}