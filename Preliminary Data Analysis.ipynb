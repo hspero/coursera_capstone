{
    "cells": [
        {
            "cell_type": "code",
            "execution_count": 210,
            "metadata": {},
            "outputs": [
                {
                    "name": "stderr",
                    "output_type": "stream",
                    "text": "/opt/conda/envs/Python36/lib/python3.6/site-packages/IPython/core/interactiveshell.py:3020: DtypeWarning: Columns (33) have mixed types. Specify dtype option on import or set low_memory=False.\n  interactivity=interactivity, compiler=compiler, result=result)\n"
                },
                {
                    "data": {
                        "text/html": "<div>\n<style scoped>\n    .dataframe tbody tr th:only-of-type {\n        vertical-align: middle;\n    }\n\n    .dataframe tbody tr th {\n        vertical-align: top;\n    }\n\n    .dataframe thead th {\n        text-align: right;\n    }\n</style>\n<table border=\"1\" class=\"dataframe\">\n  <thead>\n    <tr style=\"text-align: right;\">\n      <th></th>\n      <th>SEVERITYCODE</th>\n      <th>X</th>\n      <th>Y</th>\n      <th>OBJECTID</th>\n      <th>INCKEY</th>\n      <th>COLDETKEY</th>\n      <th>REPORTNO</th>\n      <th>STATUS</th>\n      <th>ADDRTYPE</th>\n      <th>INTKEY</th>\n      <th>...</th>\n      <th>ROADCOND</th>\n      <th>LIGHTCOND</th>\n      <th>PEDROWNOTGRNT</th>\n      <th>SDOTCOLNUM</th>\n      <th>SPEEDING</th>\n      <th>ST_COLCODE</th>\n      <th>ST_COLDESC</th>\n      <th>SEGLANEKEY</th>\n      <th>CROSSWALKKEY</th>\n      <th>HITPARKEDCAR</th>\n    </tr>\n  </thead>\n  <tbody>\n    <tr>\n      <th>0</th>\n      <td>2</td>\n      <td>-122.323148</td>\n      <td>47.703140</td>\n      <td>1</td>\n      <td>1307</td>\n      <td>1307</td>\n      <td>3502005</td>\n      <td>Matched</td>\n      <td>Intersection</td>\n      <td>37475.0</td>\n      <td>...</td>\n      <td>Wet</td>\n      <td>Daylight</td>\n      <td>NaN</td>\n      <td>NaN</td>\n      <td>NaN</td>\n      <td>10</td>\n      <td>Entering at angle</td>\n      <td>0</td>\n      <td>0</td>\n      <td>N</td>\n    </tr>\n    <tr>\n      <th>1</th>\n      <td>1</td>\n      <td>-122.347294</td>\n      <td>47.647172</td>\n      <td>2</td>\n      <td>52200</td>\n      <td>52200</td>\n      <td>2607959</td>\n      <td>Matched</td>\n      <td>Block</td>\n      <td>NaN</td>\n      <td>...</td>\n      <td>Wet</td>\n      <td>Dark - Street Lights On</td>\n      <td>NaN</td>\n      <td>6354039.0</td>\n      <td>NaN</td>\n      <td>11</td>\n      <td>From same direction - both going straight - bo...</td>\n      <td>0</td>\n      <td>0</td>\n      <td>N</td>\n    </tr>\n    <tr>\n      <th>2</th>\n      <td>1</td>\n      <td>-122.334540</td>\n      <td>47.607871</td>\n      <td>3</td>\n      <td>26700</td>\n      <td>26700</td>\n      <td>1482393</td>\n      <td>Matched</td>\n      <td>Block</td>\n      <td>NaN</td>\n      <td>...</td>\n      <td>Dry</td>\n      <td>Daylight</td>\n      <td>NaN</td>\n      <td>4323031.0</td>\n      <td>NaN</td>\n      <td>32</td>\n      <td>One parked--one moving</td>\n      <td>0</td>\n      <td>0</td>\n      <td>N</td>\n    </tr>\n    <tr>\n      <th>3</th>\n      <td>1</td>\n      <td>-122.334803</td>\n      <td>47.604803</td>\n      <td>4</td>\n      <td>1144</td>\n      <td>1144</td>\n      <td>3503937</td>\n      <td>Matched</td>\n      <td>Block</td>\n      <td>NaN</td>\n      <td>...</td>\n      <td>Dry</td>\n      <td>Daylight</td>\n      <td>NaN</td>\n      <td>NaN</td>\n      <td>NaN</td>\n      <td>23</td>\n      <td>From same direction - all others</td>\n      <td>0</td>\n      <td>0</td>\n      <td>N</td>\n    </tr>\n    <tr>\n      <th>4</th>\n      <td>2</td>\n      <td>-122.306426</td>\n      <td>47.545739</td>\n      <td>5</td>\n      <td>17700</td>\n      <td>17700</td>\n      <td>1807429</td>\n      <td>Matched</td>\n      <td>Intersection</td>\n      <td>34387.0</td>\n      <td>...</td>\n      <td>Wet</td>\n      <td>Daylight</td>\n      <td>NaN</td>\n      <td>4028032.0</td>\n      <td>NaN</td>\n      <td>10</td>\n      <td>Entering at angle</td>\n      <td>0</td>\n      <td>0</td>\n      <td>N</td>\n    </tr>\n  </tbody>\n</table>\n<p>5 rows \u00d7 38 columns</p>\n</div>",
                        "text/plain": "   SEVERITYCODE           X          Y  OBJECTID  INCKEY  COLDETKEY REPORTNO  \\\n0             2 -122.323148  47.703140         1    1307       1307  3502005   \n1             1 -122.347294  47.647172         2   52200      52200  2607959   \n2             1 -122.334540  47.607871         3   26700      26700  1482393   \n3             1 -122.334803  47.604803         4    1144       1144  3503937   \n4             2 -122.306426  47.545739         5   17700      17700  1807429   \n\n    STATUS      ADDRTYPE   INTKEY  ... ROADCOND                LIGHTCOND  \\\n0  Matched  Intersection  37475.0  ...      Wet                 Daylight   \n1  Matched         Block      NaN  ...      Wet  Dark - Street Lights On   \n2  Matched         Block      NaN  ...      Dry                 Daylight   \n3  Matched         Block      NaN  ...      Dry                 Daylight   \n4  Matched  Intersection  34387.0  ...      Wet                 Daylight   \n\n  PEDROWNOTGRNT  SDOTCOLNUM SPEEDING ST_COLCODE  \\\n0           NaN         NaN      NaN         10   \n1           NaN   6354039.0      NaN         11   \n2           NaN   4323031.0      NaN         32   \n3           NaN         NaN      NaN         23   \n4           NaN   4028032.0      NaN         10   \n\n                                          ST_COLDESC  SEGLANEKEY  \\\n0                                  Entering at angle           0   \n1  From same direction - both going straight - bo...           0   \n2                             One parked--one moving           0   \n3                   From same direction - all others           0   \n4                                  Entering at angle           0   \n\n   CROSSWALKKEY  HITPARKEDCAR  \n0             0             N  \n1             0             N  \n2             0             N  \n3             0             N  \n4             0             N  \n\n[5 rows x 38 columns]"
                    },
                    "execution_count": 210,
                    "metadata": {},
                    "output_type": "execute_result"
                }
            ],
            "source": "# The code was removed by Watson Studio for sharing."
        },
        {
            "cell_type": "code",
            "execution_count": null,
            "metadata": {},
            "outputs": [],
            "source": ""
        },
        {
            "cell_type": "markdown",
            "metadata": {},
            "source": "# Missing Values"
        },
        {
            "cell_type": "code",
            "execution_count": 211,
            "metadata": {},
            "outputs": [
                {
                    "name": "stdout",
                    "output_type": "stream",
                    "text": "<class 'pandas.core.frame.DataFrame'>\nRangeIndex: 194673 entries, 0 to 194672\nData columns (total 38 columns):\nSEVERITYCODE      194673 non-null int64\nX                 189339 non-null float64\nY                 189339 non-null float64\nOBJECTID          194673 non-null int64\nINCKEY            194673 non-null int64\nCOLDETKEY         194673 non-null int64\nREPORTNO          194673 non-null object\nSTATUS            194673 non-null object\nADDRTYPE          192747 non-null object\nINTKEY            65070 non-null float64\nLOCATION          191996 non-null object\nEXCEPTRSNCODE     84811 non-null object\nEXCEPTRSNDESC     5638 non-null object\nSEVERITYCODE.1    194673 non-null int64\nSEVERITYDESC      194673 non-null object\nCOLLISIONTYPE     189769 non-null object\nPERSONCOUNT       194673 non-null int64\nPEDCOUNT          194673 non-null int64\nPEDCYLCOUNT       194673 non-null int64\nVEHCOUNT          194673 non-null int64\nINCDATE           194673 non-null object\nINCDTTM           194673 non-null object\nJUNCTIONTYPE      188344 non-null object\nSDOT_COLCODE      194673 non-null int64\nSDOT_COLDESC      194673 non-null object\nINATTENTIONIND    29805 non-null object\nUNDERINFL         189789 non-null object\nWEATHER           189592 non-null object\nROADCOND          189661 non-null object\nLIGHTCOND         189503 non-null object\nPEDROWNOTGRNT     4667 non-null object\nSDOTCOLNUM        114936 non-null float64\nSPEEDING          9333 non-null object\nST_COLCODE        194655 non-null object\nST_COLDESC        189769 non-null object\nSEGLANEKEY        194673 non-null int64\nCROSSWALKKEY      194673 non-null int64\nHITPARKEDCAR      194673 non-null object\ndtypes: float64(4), int64(12), object(22)\nmemory usage: 56.4+ MB\n"
                }
            ],
            "source": "df_data_8.info()"
        },
        {
            "cell_type": "markdown",
            "metadata": {},
            "source": "There are 194,673 accidents reported and all of them have a Severity code which means there is no missing data.  However, some of the attributes which may be considered for projecting accidents, have some missing data, including ROADCOND and LIGHTCOND, which both are missing approximately 2.5%.  The missing values for Road Condition and Light Condition will be removed later before analysis.\n\nThe date and time parameters INCDATE and INCDTTM do not have any missing data."
        },
        {
            "cell_type": "code",
            "execution_count": 212,
            "metadata": {},
            "outputs": [
                {
                    "name": "stdout",
                    "output_type": "stream",
                    "text": "Missing values in ROADCOND: 5012 \nMissing values in LIGHTCOND: 5170 \nMissing values in INCDATE: 0 \nMissing values in SEVERITYCODE: 0\n"
                }
            ],
            "source": "print('Missing values in ROADCOND:', df_data_8[\"ROADCOND\"].isna().sum(),'\\n'\n    'Missing values in LIGHTCOND:', df_data_8[\"LIGHTCOND\"].isna().sum(), '\\n'\n    'Missing values in INCDATE:', df_data_8[\"INCDATE\"].isna().sum(),'\\n'\n    'Missing values in SEVERITYCODE:', df_data_8[\"SEVERITYCODE\"].isna().sum())"
        },
        {
            "cell_type": "markdown",
            "metadata": {},
            "source": "# Target Value is SEVERITYCODE"
        },
        {
            "cell_type": "markdown",
            "metadata": {},
            "source": "The Target Value of SEVERITYCODE indicates the value 1 if there is an accident with property damage and 2 if there is injury. Approximately 30% of the accidents on file are injury related."
        },
        {
            "cell_type": "code",
            "execution_count": 214,
            "metadata": {},
            "outputs": [
                {
                    "name": "stdout",
                    "output_type": "stream",
                    "text": "<class 'pandas.core.frame.DataFrame'>\nRangeIndex: 194673 entries, 0 to 194672\nData columns (total 38 columns):\nSEVERITYCODE      194673 non-null int64\nX                 189339 non-null float64\nY                 189339 non-null float64\nOBJECTID          194673 non-null int64\nINCKEY            194673 non-null int64\nCOLDETKEY         194673 non-null int64\nREPORTNO          194673 non-null object\nSTATUS            194673 non-null object\nADDRTYPE          192747 non-null object\nINTKEY            65070 non-null float64\nLOCATION          191996 non-null object\nEXCEPTRSNCODE     84811 non-null object\nEXCEPTRSNDESC     5638 non-null object\nSEVERITYCODE.1    194673 non-null int64\nSEVERITYDESC      194673 non-null object\nCOLLISIONTYPE     189769 non-null object\nPERSONCOUNT       194673 non-null int64\nPEDCOUNT          194673 non-null int64\nPEDCYLCOUNT       194673 non-null int64\nVEHCOUNT          194673 non-null int64\nINCDATE           194673 non-null object\nINCDTTM           194673 non-null object\nJUNCTIONTYPE      188344 non-null object\nSDOT_COLCODE      194673 non-null int64\nSDOT_COLDESC      194673 non-null object\nINATTENTIONIND    29805 non-null object\nUNDERINFL         189789 non-null object\nWEATHER           189592 non-null object\nROADCOND          189661 non-null object\nLIGHTCOND         189503 non-null object\nPEDROWNOTGRNT     4667 non-null object\nSDOTCOLNUM        114936 non-null float64\nSPEEDING          9333 non-null object\nST_COLCODE        194655 non-null object\nST_COLDESC        189769 non-null object\nSEGLANEKEY        194673 non-null int64\nCROSSWALKKEY      194673 non-null int64\nHITPARKEDCAR      194673 non-null object\ndtypes: float64(4), int64(12), object(22)\nmemory usage: 56.4+ MB\n"
                }
            ],
            "source": "%matplotlib inline\nimport matplotlib as mpl\nimport matplotlib.pyplot as plt\nimport datetime as dt\ndf_data_8['SEVERITYCODE'].value_counts()\ndf_data_8.info()\n"
        },
        {
            "cell_type": "code",
            "execution_count": 219,
            "metadata": {},
            "outputs": [
                {
                    "name": "stdout",
                    "output_type": "stream",
                    "text": "Accidents classified in each level of severity:\n1    136485\n2     58188\nName: SEVERITYCODE, dtype: int64\n"
                },
                {
                    "data": {
                        "image/png": "[encoded data removed]",
                        "text/plain": "<Figure size 288x216 with 1 Axes>"
                    },
                    "metadata": {
                        "needs_background": "light"
                    },
                    "output_type": "display_data"
                }
            ],
            "source": "df_data_8['SEVERITYCODE'].hist(figsize=(4,3))\nplt.title('Target feature values')\nplt.xlabel('Severity')\nplt.ylabel('Frequency')\nprint('Accidents classified in each level of severity:')\nprint(df_data_8.SEVERITYCODE.value_counts())"
        },
        {
            "cell_type": "code",
            "execution_count": 220,
            "metadata": {},
            "outputs": [
                {
                    "data": {
                        "text/plain": "count                     194673\nunique                      5985\ntop       2006/11/02 00:00:00+00\nfreq                          96\nName: INCDATE, dtype: object"
                    },
                    "execution_count": 220,
                    "metadata": {},
                    "output_type": "execute_result"
                }
            ],
            "source": "df_data_8['INCDATE'].describe()"
        },
        {
            "cell_type": "code",
            "execution_count": 221,
            "metadata": {},
            "outputs": [
                {
                    "data": {
                        "text/plain": "count    194673.000000\nmean     108479.364930\nstd       62649.722558\nmin           1.000000\n25%       54267.000000\n50%      106912.000000\n75%      162272.000000\nmax      219547.000000\nName: OBJECTID, dtype: float64"
                    },
                    "execution_count": 221,
                    "metadata": {},
                    "output_type": "execute_result"
                }
            ],
            "source": "df_data_8['OBJECTID'].describe()"
        },
        {
            "cell_type": "code",
            "execution_count": 222,
            "metadata": {},
            "outputs": [
                {
                    "name": "stderr",
                    "output_type": "stream",
                    "text": "/opt/conda/envs/Python36/lib/python3.6/site-packages/ipykernel/__main__.py:2: SettingWithCopyWarning: \nA value is trying to be set on a copy of a slice from a DataFrame.\nTry using .loc[row_indexer,col_indexer] = value instead\n\nSee the caveats in the documentation: http://pandas.pydata.org/pandas-docs/stable/indexing.html#indexing-view-versus-copy\n  from ipykernel import kernelapp as app\n/opt/conda/envs/Python36/lib/python3.6/site-packages/ipykernel/__main__.py:3: SettingWithCopyWarning: \nA value is trying to be set on a copy of a slice from a DataFrame.\nTry using .loc[row_indexer,col_indexer] = value instead\n\nSee the caveats in the documentation: http://pandas.pydata.org/pandas-docs/stable/indexing.html#indexing-view-versus-copy\n  app.launch_new_instance()\n/opt/conda/envs/Python36/lib/python3.6/site-packages/ipykernel/__main__.py:4: SettingWithCopyWarning: \nA value is trying to be set on a copy of a slice from a DataFrame.\nTry using .loc[row_indexer,col_indexer] = value instead\n\nSee the caveats in the documentation: http://pandas.pydata.org/pandas-docs/stable/indexing.html#indexing-view-versus-copy\n"
                },
                {
                    "data": {
                        "text/html": "<div>\n<style scoped>\n    .dataframe tbody tr th:only-of-type {\n        vertical-align: middle;\n    }\n\n    .dataframe tbody tr th {\n        vertical-align: top;\n    }\n\n    .dataframe thead th {\n        text-align: right;\n    }\n</style>\n<table border=\"1\" class=\"dataframe\">\n  <thead>\n    <tr style=\"text-align: right;\">\n      <th></th>\n      <th>SEVERITYCODE</th>\n      <th>OBJECTID</th>\n      <th>INCDATE</th>\n      <th>ROADCOND</th>\n      <th>LIGHTCOND</th>\n      <th>INCDTTM</th>\n      <th>dummy</th>\n      <th>RD_CAT</th>\n      <th>LC_CAT</th>\n    </tr>\n  </thead>\n  <tbody>\n    <tr>\n      <th>0</th>\n      <td>2</td>\n      <td>1</td>\n      <td>2013/03/27 00:00:00+00</td>\n      <td>Wet</td>\n      <td>Daylight</td>\n      <td>3/27/2013 2:54:00 PM</td>\n      <td>1</td>\n      <td>1</td>\n      <td>1</td>\n    </tr>\n    <tr>\n      <th>1</th>\n      <td>1</td>\n      <td>2</td>\n      <td>2006/12/20 00:00:00+00</td>\n      <td>Wet</td>\n      <td>Dark - Street Lights On</td>\n      <td>12/20/2006 6:55:00 PM</td>\n      <td>1</td>\n      <td>1</td>\n      <td>1</td>\n    </tr>\n    <tr>\n      <th>2</th>\n      <td>1</td>\n      <td>3</td>\n      <td>2004/11/18 00:00:00+00</td>\n      <td>Dry</td>\n      <td>Daylight</td>\n      <td>11/18/2004 10:20:00 AM</td>\n      <td>1</td>\n      <td>1</td>\n      <td>1</td>\n    </tr>\n    <tr>\n      <th>3</th>\n      <td>1</td>\n      <td>4</td>\n      <td>2013/03/29 00:00:00+00</td>\n      <td>Dry</td>\n      <td>Daylight</td>\n      <td>3/29/2013 9:26:00 AM</td>\n      <td>1</td>\n      <td>1</td>\n      <td>1</td>\n    </tr>\n    <tr>\n      <th>4</th>\n      <td>2</td>\n      <td>5</td>\n      <td>2004/01/28 00:00:00+00</td>\n      <td>Wet</td>\n      <td>Daylight</td>\n      <td>1/28/2004 8:04:00 AM</td>\n      <td>1</td>\n      <td>1</td>\n      <td>1</td>\n    </tr>\n  </tbody>\n</table>\n</div>",
                        "text/plain": "   SEVERITYCODE  OBJECTID                 INCDATE ROADCOND  \\\n0             2         1  2013/03/27 00:00:00+00      Wet   \n1             1         2  2006/12/20 00:00:00+00      Wet   \n2             1         3  2004/11/18 00:00:00+00      Dry   \n3             1         4  2013/03/29 00:00:00+00      Dry   \n4             2         5  2004/01/28 00:00:00+00      Wet   \n\n                 LIGHTCOND                 INCDTTM  dummy  RD_CAT  LC_CAT  \n0                 Daylight    3/27/2013 2:54:00 PM      1       1       1  \n1  Dark - Street Lights On   12/20/2006 6:55:00 PM      1       1       1  \n2                 Daylight  11/18/2004 10:20:00 AM      1       1       1  \n3                 Daylight    3/29/2013 9:26:00 AM      1       1       1  \n4                 Daylight    1/28/2004 8:04:00 AM      1       1       1  "
                    },
                    "execution_count": 222,
                    "metadata": {},
                    "output_type": "execute_result"
                }
            ],
            "source": "df_an=df_data_8[['SEVERITYCODE', 'OBJECTID', 'INCDATE','ROADCOND','LIGHTCOND','INCDTTM']]\ndf_an['dummy']=1\ndf_an['RD_CAT']=1\ndf_an['LC_CAT']=1\ndf_an.head()"
        },
        {
            "cell_type": "markdown",
            "metadata": {},
            "source": "Transform Road Conditions and Light Conditions from Categorical Data to Numerical Data for Analysis"
        },
        {
            "cell_type": "code",
            "execution_count": 43,
            "metadata": {},
            "outputs": [
                {
                    "data": {
                        "text/plain": "Dry               124510\nWet                47474\nUnknown            15078\nIce                 1209\nSnow/Slush          1004\nOther                132\nStanding Water       115\nSand/Mud/Dirt         75\nOil                   64\nName: ROADCOND, dtype: int64"
                    },
                    "execution_count": 43,
                    "metadata": {},
                    "output_type": "execute_result"
                }
            ],
            "source": "df_an['ROADCOND'].value_counts()"
        },
        {
            "cell_type": "code",
            "execution_count": 223,
            "metadata": {},
            "outputs": [
                {
                    "name": "stderr",
                    "output_type": "stream",
                    "text": "/opt/conda/envs/Python36/lib/python3.6/site-packages/ipykernel/__main__.py:20: SettingWithCopyWarning: \nA value is trying to be set on a copy of a slice from a DataFrame.\nTry using .loc[row_indexer,col_indexer] = value instead\n\nSee the caveats in the documentation: http://pandas.pydata.org/pandas-docs/stable/indexing.html#indexing-view-versus-copy\n"
                },
                {
                    "data": {
                        "text/html": "<div>\n<style scoped>\n    .dataframe tbody tr th:only-of-type {\n        vertical-align: middle;\n    }\n\n    .dataframe tbody tr th {\n        vertical-align: top;\n    }\n\n    .dataframe thead th {\n        text-align: right;\n    }\n</style>\n<table border=\"1\" class=\"dataframe\">\n  <thead>\n    <tr style=\"text-align: right;\">\n      <th></th>\n      <th>SEVERITYCODE</th>\n      <th>OBJECTID</th>\n      <th>INCDATE</th>\n      <th>ROADCOND</th>\n      <th>LIGHTCOND</th>\n      <th>INCDTTM</th>\n      <th>dummy</th>\n      <th>RD_CAT</th>\n      <th>LC_CAT</th>\n    </tr>\n  </thead>\n  <tbody>\n    <tr>\n      <th>0</th>\n      <td>2</td>\n      <td>1</td>\n      <td>2013/03/27 00:00:00+00</td>\n      <td>Wet</td>\n      <td>Daylight</td>\n      <td>3/27/2013 2:54:00 PM</td>\n      <td>1</td>\n      <td>4.0</td>\n      <td>1</td>\n    </tr>\n    <tr>\n      <th>1</th>\n      <td>1</td>\n      <td>2</td>\n      <td>2006/12/20 00:00:00+00</td>\n      <td>Wet</td>\n      <td>Dark - Street Lights On</td>\n      <td>12/20/2006 6:55:00 PM</td>\n      <td>1</td>\n      <td>4.0</td>\n      <td>1</td>\n    </tr>\n    <tr>\n      <th>2</th>\n      <td>1</td>\n      <td>3</td>\n      <td>2004/11/18 00:00:00+00</td>\n      <td>Dry</td>\n      <td>Daylight</td>\n      <td>11/18/2004 10:20:00 AM</td>\n      <td>1</td>\n      <td>1.0</td>\n      <td>1</td>\n    </tr>\n    <tr>\n      <th>3</th>\n      <td>1</td>\n      <td>4</td>\n      <td>2013/03/29 00:00:00+00</td>\n      <td>Dry</td>\n      <td>Daylight</td>\n      <td>3/29/2013 9:26:00 AM</td>\n      <td>1</td>\n      <td>1.0</td>\n      <td>1</td>\n    </tr>\n    <tr>\n      <th>4</th>\n      <td>2</td>\n      <td>5</td>\n      <td>2004/01/28 00:00:00+00</td>\n      <td>Wet</td>\n      <td>Daylight</td>\n      <td>1/28/2004 8:04:00 AM</td>\n      <td>1</td>\n      <td>4.0</td>\n      <td>1</td>\n    </tr>\n  </tbody>\n</table>\n</div>",
                        "text/plain": "   SEVERITYCODE  OBJECTID                 INCDATE ROADCOND  \\\n0             2         1  2013/03/27 00:00:00+00      Wet   \n1             1         2  2006/12/20 00:00:00+00      Wet   \n2             1         3  2004/11/18 00:00:00+00      Dry   \n3             1         4  2013/03/29 00:00:00+00      Dry   \n4             2         5  2004/01/28 00:00:00+00      Wet   \n\n                 LIGHTCOND                 INCDTTM  dummy  RD_CAT  LC_CAT  \n0                 Daylight    3/27/2013 2:54:00 PM      1     4.0       1  \n1  Dark - Street Lights On   12/20/2006 6:55:00 PM      1     4.0       1  \n2                 Daylight  11/18/2004 10:20:00 AM      1     1.0       1  \n3                 Daylight    3/29/2013 9:26:00 AM      1     1.0       1  \n4                 Daylight    1/28/2004 8:04:00 AM      1     4.0       1  "
                    },
                    "execution_count": 223,
                    "metadata": {},
                    "output_type": "execute_result"
                }
            ],
            "source": "def RC_to_numeric(x):\n    if x=='Dry':\n        return 1\n    if x=='Sand/Mud/Dirt':\n        return 2\n    if x=='Standing Water':\n        return 3\n    if x=='Unknown':\n        return 3\n    if x=='Other':\n        return 3\n    if x=='Wet':\n        return 4\n    if x=='Snow/Slush':\n        return 5\n    if x=='Ice':\n        return 6\n    if x=='Oil':\n        return 6\ndf_an['RD_CAT'] = df_an['ROADCOND'].apply(RC_to_numeric)\ndf_an.head()\n    "
        },
        {
            "cell_type": "code",
            "execution_count": 224,
            "metadata": {},
            "outputs": [
                {
                    "data": {
                        "text/plain": "1.0    124510\n4.0     47474\n3.0     15325\n6.0      1273\n5.0      1004\n2.0        75\nName: RD_CAT, dtype: int64"
                    },
                    "execution_count": 224,
                    "metadata": {},
                    "output_type": "execute_result"
                }
            ],
            "source": "df_an['RD_CAT'].value_counts()"
        },
        {
            "cell_type": "code",
            "execution_count": 225,
            "metadata": {},
            "outputs": [
                {
                    "data": {
                        "text/plain": "Daylight                    116137\nDark - Street Lights On      48507\nUnknown                      13473\nDusk                          5902\nDawn                          2502\nDark - No Street Lights       1537\nDark - Street Lights Off      1199\nOther                          235\nDark - Unknown Lighting         11\nName: LIGHTCOND, dtype: int64"
                    },
                    "execution_count": 225,
                    "metadata": {},
                    "output_type": "execute_result"
                }
            ],
            "source": "df_an['LIGHTCOND'].value_counts()\n"
        },
        {
            "cell_type": "code",
            "execution_count": 226,
            "metadata": {},
            "outputs": [
                {
                    "name": "stderr",
                    "output_type": "stream",
                    "text": "/opt/conda/envs/Python36/lib/python3.6/site-packages/ipykernel/__main__.py:20: SettingWithCopyWarning: \nA value is trying to be set on a copy of a slice from a DataFrame.\nTry using .loc[row_indexer,col_indexer] = value instead\n\nSee the caveats in the documentation: http://pandas.pydata.org/pandas-docs/stable/indexing.html#indexing-view-versus-copy\n"
                },
                {
                    "data": {
                        "text/html": "<div>\n<style scoped>\n    .dataframe tbody tr th:only-of-type {\n        vertical-align: middle;\n    }\n\n    .dataframe tbody tr th {\n        vertical-align: top;\n    }\n\n    .dataframe thead th {\n        text-align: right;\n    }\n</style>\n<table border=\"1\" class=\"dataframe\">\n  <thead>\n    <tr style=\"text-align: right;\">\n      <th></th>\n      <th>SEVERITYCODE</th>\n      <th>OBJECTID</th>\n      <th>INCDATE</th>\n      <th>ROADCOND</th>\n      <th>LIGHTCOND</th>\n      <th>INCDTTM</th>\n      <th>dummy</th>\n      <th>RD_CAT</th>\n      <th>LC_CAT</th>\n    </tr>\n  </thead>\n  <tbody>\n    <tr>\n      <th>0</th>\n      <td>2</td>\n      <td>1</td>\n      <td>2013/03/27 00:00:00+00</td>\n      <td>Wet</td>\n      <td>Daylight</td>\n      <td>3/27/2013 2:54:00 PM</td>\n      <td>1</td>\n      <td>4.0</td>\n      <td>1.0</td>\n    </tr>\n    <tr>\n      <th>1</th>\n      <td>1</td>\n      <td>2</td>\n      <td>2006/12/20 00:00:00+00</td>\n      <td>Wet</td>\n      <td>Dark - Street Lights On</td>\n      <td>12/20/2006 6:55:00 PM</td>\n      <td>1</td>\n      <td>4.0</td>\n      <td>3.0</td>\n    </tr>\n    <tr>\n      <th>2</th>\n      <td>1</td>\n      <td>3</td>\n      <td>2004/11/18 00:00:00+00</td>\n      <td>Dry</td>\n      <td>Daylight</td>\n      <td>11/18/2004 10:20:00 AM</td>\n      <td>1</td>\n      <td>1.0</td>\n      <td>1.0</td>\n    </tr>\n    <tr>\n      <th>3</th>\n      <td>1</td>\n      <td>4</td>\n      <td>2013/03/29 00:00:00+00</td>\n      <td>Dry</td>\n      <td>Daylight</td>\n      <td>3/29/2013 9:26:00 AM</td>\n      <td>1</td>\n      <td>1.0</td>\n      <td>1.0</td>\n    </tr>\n    <tr>\n      <th>4</th>\n      <td>2</td>\n      <td>5</td>\n      <td>2004/01/28 00:00:00+00</td>\n      <td>Wet</td>\n      <td>Daylight</td>\n      <td>1/28/2004 8:04:00 AM</td>\n      <td>1</td>\n      <td>4.0</td>\n      <td>1.0</td>\n    </tr>\n  </tbody>\n</table>\n</div>",
                        "text/plain": "   SEVERITYCODE  OBJECTID                 INCDATE ROADCOND  \\\n0             2         1  2013/03/27 00:00:00+00      Wet   \n1             1         2  2006/12/20 00:00:00+00      Wet   \n2             1         3  2004/11/18 00:00:00+00      Dry   \n3             1         4  2013/03/29 00:00:00+00      Dry   \n4             2         5  2004/01/28 00:00:00+00      Wet   \n\n                 LIGHTCOND                 INCDTTM  dummy  RD_CAT  LC_CAT  \n0                 Daylight    3/27/2013 2:54:00 PM      1     4.0     1.0  \n1  Dark - Street Lights On   12/20/2006 6:55:00 PM      1     4.0     3.0  \n2                 Daylight  11/18/2004 10:20:00 AM      1     1.0     1.0  \n3                 Daylight    3/29/2013 9:26:00 AM      1     1.0     1.0  \n4                 Daylight    1/28/2004 8:04:00 AM      1     4.0     1.0  "
                    },
                    "execution_count": 226,
                    "metadata": {},
                    "output_type": "execute_result"
                }
            ],
            "source": "def LC_to_numeric(x):\n    if x=='Daylight':\n        return 1\n    if x=='Dusk':\n        return 2\n    if x=='Dawn':\n        return 2\n    if x=='Dark - Street Lights On':\n        return 3\n    if x=='Dark - No Street Lights':\n        return 3\n    if x=='Dark - Street Lights Off':\n        return 3\n    if x=='Dark - Unknown Lighting':\n        return 3\n    if x=='Other':\n        return 4\n    if x=='Unknown':\n        return 4\ndf_an['LC_CAT'] = df_an['LIGHTCOND'].apply(LC_to_numeric)\ndf_an.head()\n    "
        },
        {
            "cell_type": "markdown",
            "metadata": {},
            "source": "### Remove the rows with missing data in Road Conditions and/or Light Conditions"
        },
        {
            "cell_type": "code",
            "execution_count": 227,
            "metadata": {},
            "outputs": [
                {
                    "name": "stdout",
                    "output_type": "stream",
                    "text": "<class 'pandas.core.frame.DataFrame'>\nInt64Index: 189443 entries, 0 to 194672\nData columns (total 9 columns):\nSEVERITYCODE    189443 non-null int64\nOBJECTID        189443 non-null int64\nINCDATE         189443 non-null object\nROADCOND        189443 non-null object\nLIGHTCOND       189443 non-null object\nINCDTTM         189443 non-null object\ndummy           189443 non-null int64\nRD_CAT          189443 non-null float64\nLC_CAT          189443 non-null float64\ndtypes: float64(2), int64(3), object(4)\nmemory usage: 14.5+ MB\n"
                },
                {
                    "name": "stderr",
                    "output_type": "stream",
                    "text": "/opt/conda/envs/Python36/lib/python3.6/site-packages/ipykernel/__main__.py:3: SettingWithCopyWarning: \nA value is trying to be set on a copy of a slice from a DataFrame\n\nSee the caveats in the documentation: http://pandas.pydata.org/pandas-docs/stable/indexing.html#indexing-view-versus-copy\n  app.launch_new_instance()\n"
                }
            ],
            "source": "import pandas as pd\nimport numpy as np\ndf_an.dropna(subset=[\"RD_CAT\",\"LC_CAT\"],inplace=True)\ndf_an.info()"
        },
        {
            "cell_type": "code",
            "execution_count": 115,
            "metadata": {
                "scrolled": true
            },
            "outputs": [
                {
                    "name": "stdout",
                    "output_type": "stream",
                    "text": "<class 'pandas.core.frame.DataFrame'>\nInt64Index: 189443 entries, 0 to 194672\nData columns (total 9 columns):\nSEVERITYCODE    189443 non-null int64\nOBJECTID        189443 non-null int64\nINCDATE         189443 non-null object\nROADCOND        189443 non-null object\nLIGHTCOND       189443 non-null object\nINCDTTM         189443 non-null object\ndummy           189443 non-null int64\nRD_CAT          189443 non-null int64\nLC_CAT          189443 non-null int64\ndtypes: int64(5), object(4)\nmemory usage: 14.5+ MB\n"
                }
            ],
            "source": "\ndf_an['RD_CAT'] = pd.to_numeric(df_an['RD_CAT'], errors='coerce')\ndf_an['LC_CAT'] = pd.to_numeric(df_an['LC_CAT'], errors='coerce')\n#df_an[[\"RD_CAT\", \"LC_CAT\"]] = df_an[[\"RD_CAT\", \"LC_CAT\"]].apply(pd.to_numeric, errors=coerce)\n#df_an=df_an.astype({\"RD_CAT\":'int', \"LC_CAT\":'int'})\n#df_an['RD_CAT'] = df_an['RD_CAT'].apply(np.int64) \n#pd.to_numeric(y, downcast='signed')\ndf_an = df_an.dropna(subset=['RD_CAT'])\ndf_an = df_an.dropna(subset=['LC_CAT'])\n\ndf_an['RD_CAT'] = df_an['RD_CAT'].astype(int)\ndf_an['LC_CAT'] = df_an['LC_CAT'].astype(int)\n\ndf_an.info()"
        },
        {
            "cell_type": "code",
            "execution_count": null,
            "metadata": {},
            "outputs": [],
            "source": ""
        },
        {
            "cell_type": "markdown",
            "metadata": {},
            "source": "### Reviewing the Year and Month data"
        },
        {
            "cell_type": "code",
            "execution_count": 228,
            "metadata": {},
            "outputs": [
                {
                    "name": "stderr",
                    "output_type": "stream",
                    "text": "/opt/conda/envs/Python36/lib/python3.6/site-packages/ipykernel/__main__.py:5: SettingWithCopyWarning: \nA value is trying to be set on a copy of a slice from a DataFrame.\nTry using .loc[row_indexer,col_indexer] = value instead\n\nSee the caveats in the documentation: http://pandas.pydata.org/pandas-docs/stable/indexing.html#indexing-view-versus-copy\n/opt/conda/envs/Python36/lib/python3.6/site-packages/ipykernel/__main__.py:6: SettingWithCopyWarning: \nA value is trying to be set on a copy of a slice from a DataFrame.\nTry using .loc[row_indexer,col_indexer] = value instead\n\nSee the caveats in the documentation: http://pandas.pydata.org/pandas-docs/stable/indexing.html#indexing-view-versus-copy\n/opt/conda/envs/Python36/lib/python3.6/site-packages/ipykernel/__main__.py:7: SettingWithCopyWarning: \nA value is trying to be set on a copy of a slice from a DataFrame.\nTry using .loc[row_indexer,col_indexer] = value instead\n\nSee the caveats in the documentation: http://pandas.pydata.org/pandas-docs/stable/indexing.html#indexing-view-versus-copy\n/opt/conda/envs/Python36/lib/python3.6/site-packages/ipykernel/__main__.py:8: SettingWithCopyWarning: \nA value is trying to be set on a copy of a slice from a DataFrame.\nTry using .loc[row_indexer,col_indexer] = value instead\n\nSee the caveats in the documentation: http://pandas.pydata.org/pandas-docs/stable/indexing.html#indexing-view-versus-copy\n/opt/conda/envs/Python36/lib/python3.6/site-packages/ipykernel/__main__.py:12: SettingWithCopyWarning: \nA value is trying to be set on a copy of a slice from a DataFrame\n\nSee the caveats in the documentation: http://pandas.pydata.org/pandas-docs/stable/indexing.html#indexing-view-versus-copy\n"
                },
                {
                    "data": {
                        "text/html": "<div>\n<style scoped>\n    .dataframe tbody tr th:only-of-type {\n        vertical-align: middle;\n    }\n\n    .dataframe tbody tr th {\n        vertical-align: top;\n    }\n\n    .dataframe thead th {\n        text-align: right;\n    }\n</style>\n<table border=\"1\" class=\"dataframe\">\n  <thead>\n    <tr style=\"text-align: right;\">\n      <th></th>\n      <th>OBJECTID</th>\n      <th>INCDATE</th>\n      <th>ROADCOND</th>\n      <th>LIGHTCOND</th>\n      <th>INCDTTM</th>\n      <th>dummy</th>\n      <th>RD_CAT</th>\n      <th>LC_CAT</th>\n      <th>month</th>\n    </tr>\n    <tr>\n      <th>year</th>\n      <th></th>\n      <th></th>\n      <th></th>\n      <th></th>\n      <th></th>\n      <th></th>\n      <th></th>\n      <th></th>\n      <th></th>\n    </tr>\n  </thead>\n  <tbody>\n    <tr>\n      <th>2004</th>\n      <td>11865</td>\n      <td>11865</td>\n      <td>11865</td>\n      <td>11865</td>\n      <td>11865</td>\n      <td>11865</td>\n      <td>11865</td>\n      <td>11865</td>\n      <td>11865</td>\n    </tr>\n    <tr>\n      <th>2005</th>\n      <td>15115</td>\n      <td>15115</td>\n      <td>15115</td>\n      <td>15115</td>\n      <td>15115</td>\n      <td>15115</td>\n      <td>15115</td>\n      <td>15115</td>\n      <td>15115</td>\n    </tr>\n    <tr>\n      <th>2006</th>\n      <td>15181</td>\n      <td>15181</td>\n      <td>15181</td>\n      <td>15181</td>\n      <td>15181</td>\n      <td>15181</td>\n      <td>15181</td>\n      <td>15181</td>\n      <td>15181</td>\n    </tr>\n    <tr>\n      <th>2007</th>\n      <td>14450</td>\n      <td>14450</td>\n      <td>14450</td>\n      <td>14450</td>\n      <td>14450</td>\n      <td>14450</td>\n      <td>14450</td>\n      <td>14450</td>\n      <td>14450</td>\n    </tr>\n    <tr>\n      <th>2008</th>\n      <td>13654</td>\n      <td>13654</td>\n      <td>13654</td>\n      <td>13654</td>\n      <td>13654</td>\n      <td>13654</td>\n      <td>13654</td>\n      <td>13654</td>\n      <td>13654</td>\n    </tr>\n    <tr>\n      <th>2009</th>\n      <td>11734</td>\n      <td>11734</td>\n      <td>11734</td>\n      <td>11734</td>\n      <td>11734</td>\n      <td>11734</td>\n      <td>11734</td>\n      <td>11734</td>\n      <td>11734</td>\n    </tr>\n    <tr>\n      <th>2010</th>\n      <td>10804</td>\n      <td>10804</td>\n      <td>10804</td>\n      <td>10804</td>\n      <td>10804</td>\n      <td>10804</td>\n      <td>10804</td>\n      <td>10804</td>\n      <td>10804</td>\n    </tr>\n    <tr>\n      <th>2011</th>\n      <td>10919</td>\n      <td>10919</td>\n      <td>10919</td>\n      <td>10919</td>\n      <td>10919</td>\n      <td>10919</td>\n      <td>10919</td>\n      <td>10919</td>\n      <td>10919</td>\n    </tr>\n    <tr>\n      <th>2012</th>\n      <td>10244</td>\n      <td>10244</td>\n      <td>10244</td>\n      <td>10244</td>\n      <td>10244</td>\n      <td>10244</td>\n      <td>10244</td>\n      <td>10244</td>\n      <td>10244</td>\n    </tr>\n    <tr>\n      <th>2013</th>\n      <td>9976</td>\n      <td>9976</td>\n      <td>9976</td>\n      <td>9976</td>\n      <td>9976</td>\n      <td>9976</td>\n      <td>9976</td>\n      <td>9976</td>\n      <td>9976</td>\n    </tr>\n    <tr>\n      <th>2014</th>\n      <td>11549</td>\n      <td>11549</td>\n      <td>11549</td>\n      <td>11549</td>\n      <td>11549</td>\n      <td>11549</td>\n      <td>11549</td>\n      <td>11549</td>\n      <td>11549</td>\n    </tr>\n    <tr>\n      <th>2015</th>\n      <td>12741</td>\n      <td>12741</td>\n      <td>12741</td>\n      <td>12741</td>\n      <td>12741</td>\n      <td>12741</td>\n      <td>12741</td>\n      <td>12741</td>\n      <td>12741</td>\n    </tr>\n    <tr>\n      <th>2016</th>\n      <td>10893</td>\n      <td>10893</td>\n      <td>10893</td>\n      <td>10893</td>\n      <td>10893</td>\n      <td>10893</td>\n      <td>10893</td>\n      <td>10893</td>\n      <td>10893</td>\n    </tr>\n    <tr>\n      <th>2017</th>\n      <td>10447</td>\n      <td>10447</td>\n      <td>10447</td>\n      <td>10447</td>\n      <td>10447</td>\n      <td>10447</td>\n      <td>10447</td>\n      <td>10447</td>\n      <td>10447</td>\n    </tr>\n    <tr>\n      <th>2018</th>\n      <td>9890</td>\n      <td>9890</td>\n      <td>9890</td>\n      <td>9890</td>\n      <td>9890</td>\n      <td>9890</td>\n      <td>9890</td>\n      <td>9890</td>\n      <td>9890</td>\n    </tr>\n    <tr>\n      <th>2019</th>\n      <td>8721</td>\n      <td>8721</td>\n      <td>8721</td>\n      <td>8721</td>\n      <td>8721</td>\n      <td>8721</td>\n      <td>8721</td>\n      <td>8721</td>\n      <td>8721</td>\n    </tr>\n    <tr>\n      <th>2020</th>\n      <td>1260</td>\n      <td>1260</td>\n      <td>1260</td>\n      <td>1260</td>\n      <td>1260</td>\n      <td>1260</td>\n      <td>1260</td>\n      <td>1260</td>\n      <td>1260</td>\n    </tr>\n  </tbody>\n</table>\n</div>",
                        "text/plain": "      OBJECTID  INCDATE  ROADCOND  LIGHTCOND  INCDTTM  dummy  RD_CAT  LC_CAT  \\\nyear                                                                           \n2004     11865    11865     11865      11865    11865  11865   11865   11865   \n2005     15115    15115     15115      15115    15115  15115   15115   15115   \n2006     15181    15181     15181      15181    15181  15181   15181   15181   \n2007     14450    14450     14450      14450    14450  14450   14450   14450   \n2008     13654    13654     13654      13654    13654  13654   13654   13654   \n2009     11734    11734     11734      11734    11734  11734   11734   11734   \n2010     10804    10804     10804      10804    10804  10804   10804   10804   \n2011     10919    10919     10919      10919    10919  10919   10919   10919   \n2012     10244    10244     10244      10244    10244  10244   10244   10244   \n2013      9976     9976      9976       9976     9976   9976    9976    9976   \n2014     11549    11549     11549      11549    11549  11549   11549   11549   \n2015     12741    12741     12741      12741    12741  12741   12741   12741   \n2016     10893    10893     10893      10893    10893  10893   10893   10893   \n2017     10447    10447     10447      10447    10447  10447   10447   10447   \n2018      9890     9890      9890       9890     9890   9890    9890    9890   \n2019      8721     8721      8721       8721     8721   8721    8721    8721   \n2020      1260     1260      1260       1260     1260   1260    1260    1260   \n\n      month  \nyear         \n2004  11865  \n2005  15115  \n2006  15181  \n2007  14450  \n2008  13654  \n2009  11734  \n2010  10804  \n2011  10919  \n2012  10244  \n2013   9976  \n2014  11549  \n2015  12741  \n2016  10893  \n2017  10447  \n2018   9890  \n2019   8721  \n2020   1260  "
                    },
                    "execution_count": 228,
                    "metadata": {},
                    "output_type": "execute_result"
                }
            ],
            "source": "import datetime as dt\n\ndate=df_an\n\ndf_an['INCDATE'] = df_an['INCDATE'].apply(lambda x: pd.Timestamp(x))\ndf_an['year'] = df_an.INCDATE.dt.year\ndf_an['month'] = df_an.INCDATE.dt.month\ndf_an['dummy']=1\ndf_month=date.copy()\n\nimport pandas as pd\ndf_an.sort_values(by ='year', inplace=True)\ndf_an.set_index([\"year\",\"SEVERITYCODE\"]).count(level=\"year\")\n"
        },
        {
            "cell_type": "code",
            "execution_count": 229,
            "metadata": {},
            "outputs": [
                {
                    "data": {
                        "text/plain": "<matplotlib.legend.Legend at 0x7f0353b23748>"
                    },
                    "execution_count": 229,
                    "metadata": {},
                    "output_type": "execute_result"
                },
                {
                    "data": {
                        "image/png": "[encoded data removed]",
                        "text/plain": "<Figure size 720x288 with 1 Axes>"
                    },
                    "metadata": {
                        "needs_background": "light"
                    },
                    "output_type": "display_data"
                }
            ],
            "source": "yearly = df_an[['year', 'dummy']].groupby('year').count()\nyearly['dummy'].plot.line(figsize=(10,4), marker='o', linewidth=0.5, color='orange', label='Total')\nplt.title('Accidents per year')\nplt.xticks(range(2004,2020))\nplt.xlim(2004,2020)\nplt.ylabel('Accidents')\nplt.legend()"
        },
        {
            "cell_type": "code",
            "execution_count": 136,
            "metadata": {},
            "outputs": [
                {
                    "data": {
                        "text/plain": "<matplotlib.legend.Legend at 0x7f0353d53320>"
                    },
                    "execution_count": 136,
                    "metadata": {},
                    "output_type": "execute_result"
                },
                {
                    "data": {
                        "image/png": "[encoded data removed]",
                        "text/plain": "<Figure size 720x288 with 1 Axes>"
                    },
                    "metadata": {
                        "needs_background": "light"
                    },
                    "output_type": "display_data"
                }
            ],
            "source": "df_month.head()\ndf_month.sort_values(by ='month', inplace=True)\ndf_month.set_index([\"month\",\"dummy\"]).count(level=\"month\")\n\nmonthly = df_month[['month', 'dummy']].groupby('month').count()\nmonthly['dummy'].plot.line(figsize=(10,4), marker='o', linewidth=0.5, color='red', label='Total')\nplt.title('Accidents per month')\nplt.xticks(range(1,12))\nplt.xlim(1,12)\nplt.ylabel('Accidents')\nplt.legend()\n"
        },
        {
            "cell_type": "code",
            "execution_count": 230,
            "metadata": {},
            "outputs": [
                {
                    "data": {
                        "text/html": "<div>\n<style scoped>\n    .dataframe tbody tr th:only-of-type {\n        vertical-align: middle;\n    }\n\n    .dataframe tbody tr th {\n        vertical-align: top;\n    }\n\n    .dataframe thead th {\n        text-align: right;\n    }\n</style>\n<table border=\"1\" class=\"dataframe\">\n  <thead>\n    <tr style=\"text-align: right;\">\n      <th></th>\n      <th>SEVERITYCODE</th>\n      <th>OBJECTID</th>\n      <th>dummy</th>\n      <th>RD_CAT</th>\n      <th>LC_CAT</th>\n      <th>year</th>\n      <th>month</th>\n    </tr>\n  </thead>\n  <tbody>\n    <tr>\n      <th>SEVERITYCODE</th>\n      <td>1.000000</td>\n      <td>0.021653</td>\n      <td>NaN</td>\n      <td>-0.035332</td>\n      <td>-0.103992</td>\n      <td>0.022860</td>\n      <td>0.003718</td>\n    </tr>\n    <tr>\n      <th>OBJECTID</th>\n      <td>0.021653</td>\n      <td>1.000000</td>\n      <td>NaN</td>\n      <td>-0.002544</td>\n      <td>-0.009626</td>\n      <td>0.927121</td>\n      <td>0.020931</td>\n    </tr>\n    <tr>\n      <th>dummy</th>\n      <td>NaN</td>\n      <td>NaN</td>\n      <td>1.0</td>\n      <td>NaN</td>\n      <td>NaN</td>\n      <td>NaN</td>\n      <td>NaN</td>\n    </tr>\n    <tr>\n      <th>RD_CAT</th>\n      <td>-0.035332</td>\n      <td>-0.002544</td>\n      <td>NaN</td>\n      <td>1.000000</td>\n      <td>0.214388</td>\n      <td>-0.002866</td>\n      <td>0.014890</td>\n    </tr>\n    <tr>\n      <th>LC_CAT</th>\n      <td>-0.103992</td>\n      <td>-0.009626</td>\n      <td>NaN</td>\n      <td>0.214388</td>\n      <td>1.000000</td>\n      <td>-0.012860</td>\n      <td>0.038011</td>\n    </tr>\n    <tr>\n      <th>year</th>\n      <td>0.022860</td>\n      <td>0.927121</td>\n      <td>NaN</td>\n      <td>-0.002866</td>\n      <td>-0.012860</td>\n      <td>1.000000</td>\n      <td>-0.003237</td>\n    </tr>\n    <tr>\n      <th>month</th>\n      <td>0.003718</td>\n      <td>0.020931</td>\n      <td>NaN</td>\n      <td>0.014890</td>\n      <td>0.038011</td>\n      <td>-0.003237</td>\n      <td>1.000000</td>\n    </tr>\n  </tbody>\n</table>\n</div>",
                        "text/plain": "              SEVERITYCODE  OBJECTID  dummy    RD_CAT    LC_CAT      year  \\\nSEVERITYCODE      1.000000  0.021653    NaN -0.035332 -0.103992  0.022860   \nOBJECTID          0.021653  1.000000    NaN -0.002544 -0.009626  0.927121   \ndummy                  NaN       NaN    1.0       NaN       NaN       NaN   \nRD_CAT           -0.035332 -0.002544    NaN  1.000000  0.214388 -0.002866   \nLC_CAT           -0.103992 -0.009626    NaN  0.214388  1.000000 -0.012860   \nyear              0.022860  0.927121    NaN -0.002866 -0.012860  1.000000   \nmonth             0.003718  0.020931    NaN  0.014890  0.038011 -0.003237   \n\n                 month  \nSEVERITYCODE  0.003718  \nOBJECTID      0.020931  \ndummy              NaN  \nRD_CAT        0.014890  \nLC_CAT        0.038011  \nyear         -0.003237  \nmonth         1.000000  "
                    },
                    "execution_count": 230,
                    "metadata": {},
                    "output_type": "execute_result"
                }
            ],
            "source": "df_an.corr(method='kendall')"
        },
        {
            "cell_type": "markdown",
            "metadata": {},
            "source": "# DATA ANALYSIS AND METHODOLOGY"
        },
        {
            "cell_type": "code",
            "execution_count": 231,
            "metadata": {},
            "outputs": [],
            "source": "import itertools\nimport numpy as np\nimport pandas as pd\nimport matplotlib.pyplot as plt\nfrom matplotlib.ticker import NullFormatter\nimport matplotlib.ticker as ticker\nimport scipy.optimize as opt\nfrom sklearn import preprocessing\n%matplotlib inline\n"
        },
        {
            "cell_type": "code",
            "execution_count": 232,
            "metadata": {},
            "outputs": [
                {
                    "name": "stdout",
                    "output_type": "stream",
                    "text": "<class 'pandas.core.frame.DataFrame'>\nInt64Index: 189443 entries, 10499 to 186698\nData columns (total 11 columns):\nSEVERITYCODE    189443 non-null int64\nOBJECTID        189443 non-null int64\nINCDATE         189443 non-null datetime64[ns, UTC]\nROADCOND        189443 non-null object\nLIGHTCOND       189443 non-null object\nINCDTTM         189443 non-null object\ndummy           189443 non-null int64\nRD_CAT          189443 non-null float64\nLC_CAT          189443 non-null float64\nyear            189443 non-null int64\nmonth           189443 non-null int64\ndtypes: datetime64[ns, UTC](1), float64(2), int64(5), object(3)\nmemory usage: 17.3+ MB\n"
                },
                {
                    "data": {
                        "text/html": "<div>\n<style scoped>\n    .dataframe tbody tr th:only-of-type {\n        vertical-align: middle;\n    }\n\n    .dataframe tbody tr th {\n        vertical-align: top;\n    }\n\n    .dataframe thead th {\n        text-align: right;\n    }\n</style>\n<table border=\"1\" class=\"dataframe\">\n  <thead>\n    <tr style=\"text-align: right;\">\n      <th></th>\n      <th>SEVERITYCODE</th>\n      <th>OBJECTID</th>\n      <th>dummy</th>\n      <th>RD_CAT</th>\n      <th>LC_CAT</th>\n      <th>year</th>\n      <th>month</th>\n    </tr>\n  </thead>\n  <tbody>\n    <tr>\n      <th>SEVERITYCODE</th>\n      <td>1.000000</td>\n      <td>0.021653</td>\n      <td>NaN</td>\n      <td>-0.035332</td>\n      <td>-0.103992</td>\n      <td>0.022860</td>\n      <td>0.003718</td>\n    </tr>\n    <tr>\n      <th>OBJECTID</th>\n      <td>0.021653</td>\n      <td>1.000000</td>\n      <td>NaN</td>\n      <td>-0.002544</td>\n      <td>-0.009626</td>\n      <td>0.927121</td>\n      <td>0.020931</td>\n    </tr>\n    <tr>\n      <th>dummy</th>\n      <td>NaN</td>\n      <td>NaN</td>\n      <td>1.0</td>\n      <td>NaN</td>\n      <td>NaN</td>\n      <td>NaN</td>\n      <td>NaN</td>\n    </tr>\n    <tr>\n      <th>RD_CAT</th>\n      <td>-0.035332</td>\n      <td>-0.002544</td>\n      <td>NaN</td>\n      <td>1.000000</td>\n      <td>0.214388</td>\n      <td>-0.002866</td>\n      <td>0.014890</td>\n    </tr>\n    <tr>\n      <th>LC_CAT</th>\n      <td>-0.103992</td>\n      <td>-0.009626</td>\n      <td>NaN</td>\n      <td>0.214388</td>\n      <td>1.000000</td>\n      <td>-0.012860</td>\n      <td>0.038011</td>\n    </tr>\n    <tr>\n      <th>year</th>\n      <td>0.022860</td>\n      <td>0.927121</td>\n      <td>NaN</td>\n      <td>-0.002866</td>\n      <td>-0.012860</td>\n      <td>1.000000</td>\n      <td>-0.003237</td>\n    </tr>\n    <tr>\n      <th>month</th>\n      <td>0.003718</td>\n      <td>0.020931</td>\n      <td>NaN</td>\n      <td>0.014890</td>\n      <td>0.038011</td>\n      <td>-0.003237</td>\n      <td>1.000000</td>\n    </tr>\n  </tbody>\n</table>\n</div>",
                        "text/plain": "              SEVERITYCODE  OBJECTID  dummy    RD_CAT    LC_CAT      year  \\\nSEVERITYCODE      1.000000  0.021653    NaN -0.035332 -0.103992  0.022860   \nOBJECTID          0.021653  1.000000    NaN -0.002544 -0.009626  0.927121   \ndummy                  NaN       NaN    1.0       NaN       NaN       NaN   \nRD_CAT           -0.035332 -0.002544    NaN  1.000000  0.214388 -0.002866   \nLC_CAT           -0.103992 -0.009626    NaN  0.214388  1.000000 -0.012860   \nyear              0.022860  0.927121    NaN -0.002866 -0.012860  1.000000   \nmonth             0.003718  0.020931    NaN  0.014890  0.038011 -0.003237   \n\n                 month  \nSEVERITYCODE  0.003718  \nOBJECTID      0.020931  \ndummy              NaN  \nRD_CAT        0.014890  \nLC_CAT        0.038011  \nyear         -0.003237  \nmonth         1.000000  "
                    },
                    "execution_count": 232,
                    "metadata": {},
                    "output_type": "execute_result"
                }
            ],
            "source": "df_an.info()\ndf_an.corr(method='kendall')"
        },
        {
            "cell_type": "markdown",
            "metadata": {},
            "source": "The data is now ready to be analyzed by the machine learning models.\n\nWe will use the following models:\n\nK-Nearest Neighbor (KNN)\nKNN will help us predict the target vale \"severity code\" of each outcome by finding the most similar data point within k distance.\n\nDecision Tree\nA decision tree model provides a layout of all possible outcomes to fully analyze the concequences of a decision. The decision tree observes all possible outcomes of different driving conditions.\n\nLogistic Regression\nThe dataset only provides two severity code outcomes (1 or 2), the model will only predict one of those two classes. Therefore logistic regression will be used.\n\n\n\n"
        },
        {
            "cell_type": "markdown",
            "metadata": {},
            "source": ""
        },
        {
            "cell_type": "code",
            "execution_count": 233,
            "metadata": {},
            "outputs": [
                {
                    "data": {
                        "text/html": "<div>\n<style scoped>\n    .dataframe tbody tr th:only-of-type {\n        vertical-align: middle;\n    }\n\n    .dataframe tbody tr th {\n        vertical-align: top;\n    }\n\n    .dataframe thead th {\n        text-align: right;\n    }\n</style>\n<table border=\"1\" class=\"dataframe\">\n  <thead>\n    <tr style=\"text-align: right;\">\n      <th></th>\n      <th>SEVERITYCODE</th>\n      <th>OBJECTID</th>\n      <th>INCDATE</th>\n      <th>ROADCOND</th>\n      <th>LIGHTCOND</th>\n      <th>INCDTTM</th>\n      <th>dummy</th>\n      <th>RD_CAT</th>\n      <th>LC_CAT</th>\n      <th>year</th>\n      <th>month</th>\n    </tr>\n  </thead>\n  <tbody>\n    <tr>\n      <th>10499</th>\n      <td>1</td>\n      <td>13214</td>\n      <td>2004-05-12 00:00:00+00:00</td>\n      <td>Unknown</td>\n      <td>Unknown</td>\n      <td>5/12/2004 9:08:00 AM</td>\n      <td>1</td>\n      <td>3.0</td>\n      <td>4.0</td>\n      <td>2004</td>\n      <td>5</td>\n    </tr>\n    <tr>\n      <th>9865</th>\n      <td>2</td>\n      <td>12400</td>\n      <td>2004-10-05 00:00:00+00:00</td>\n      <td>Dry</td>\n      <td>Daylight</td>\n      <td>10/5/2004</td>\n      <td>1</td>\n      <td>1.0</td>\n      <td>1.0</td>\n      <td>2004</td>\n      <td>10</td>\n    </tr>\n    <tr>\n      <th>9866</th>\n      <td>1</td>\n      <td>12402</td>\n      <td>2004-09-03 00:00:00+00:00</td>\n      <td>Dry</td>\n      <td>Dusk</td>\n      <td>9/3/2004</td>\n      <td>1</td>\n      <td>1.0</td>\n      <td>2.0</td>\n      <td>2004</td>\n      <td>9</td>\n    </tr>\n    <tr>\n      <th>9867</th>\n      <td>1</td>\n      <td>12403</td>\n      <td>2004-03-10 00:00:00+00:00</td>\n      <td>Dry</td>\n      <td>Daylight</td>\n      <td>3/10/2004 6:51:00 AM</td>\n      <td>1</td>\n      <td>1.0</td>\n      <td>1.0</td>\n      <td>2004</td>\n      <td>3</td>\n    </tr>\n    <tr>\n      <th>9868</th>\n      <td>1</td>\n      <td>12405</td>\n      <td>2004-04-13 00:00:00+00:00</td>\n      <td>Dry</td>\n      <td>Daylight</td>\n      <td>4/13/2004 4:26:00 PM</td>\n      <td>1</td>\n      <td>1.0</td>\n      <td>1.0</td>\n      <td>2004</td>\n      <td>4</td>\n    </tr>\n  </tbody>\n</table>\n</div>",
                        "text/plain": "       SEVERITYCODE  OBJECTID                   INCDATE ROADCOND LIGHTCOND  \\\n10499             1     13214 2004-05-12 00:00:00+00:00  Unknown   Unknown   \n9865              2     12400 2004-10-05 00:00:00+00:00      Dry  Daylight   \n9866              1     12402 2004-09-03 00:00:00+00:00      Dry      Dusk   \n9867              1     12403 2004-03-10 00:00:00+00:00      Dry  Daylight   \n9868              1     12405 2004-04-13 00:00:00+00:00      Dry  Daylight   \n\n                    INCDTTM  dummy  RD_CAT  LC_CAT  year  month  \n10499  5/12/2004 9:08:00 AM      1     3.0     4.0  2004      5  \n9865              10/5/2004      1     1.0     1.0  2004     10  \n9866               9/3/2004      1     1.0     2.0  2004      9  \n9867   3/10/2004 6:51:00 AM      1     1.0     1.0  2004      3  \n9868   4/13/2004 4:26:00 PM      1     1.0     1.0  2004      4  "
                    },
                    "execution_count": 233,
                    "metadata": {},
                    "output_type": "execute_result"
                }
            ],
            "source": "df_an.head()"
        },
        {
            "cell_type": "markdown",
            "metadata": {},
            "source": "## Defining X and Y and Normalize the Dataset"
        },
        {
            "cell_type": "code",
            "execution_count": 234,
            "metadata": {},
            "outputs": [],
            "source": "import itertools\nimport numpy as np\nimport pandas as pd\nimport matplotlib.pyplot as plt\nfrom matplotlib.ticker import NullFormatter\nimport matplotlib.ticker as ticker\nimport scipy.optimize as opt\nfrom sklearn import preprocessing\n%matplotlib inline\n\nX=np.asarray(df_an[['RD_CAT', 'LC_CAT', 'year', 'month']])\nX[0:5]\ny=np.asarray(df_an['SEVERITYCODE'])\ny[0:5]\n\nnp.array(np.unique(y, return_counts=True)).T\ny.shape\n\n\nX=preprocessing.StandardScaler().fit(X).transform(X.astype(float))\n#X[0:5]\n\n#from sklearn import svm\n\n#clf=svm.SVC(kernel='rbf')\n#clf.fit(X_train,y_train)\n#yhat=clf.predict(X_test)\n#yhat[0:5]\n"
        },
        {
            "cell_type": "markdown",
            "metadata": {},
            "source": "### Train/Test Split"
        },
        {
            "cell_type": "markdown",
            "metadata": {},
            "source": "The analysis will use 30% of the data for testing and 70% for training."
        },
        {
            "cell_type": "code",
            "execution_count": 235,
            "metadata": {},
            "outputs": [
                {
                    "name": "stdout",
                    "output_type": "stream",
                    "text": "Train set: (132610, 4) (132610,)\nTest set: (56833, 4) (56833,)\n"
                },
                {
                    "data": {
                        "text/plain": "array([[    1, 39799],\n       [    2, 17034]])"
                    },
                    "execution_count": 235,
                    "metadata": {},
                    "output_type": "execute_result"
                }
            ],
            "source": "\nfrom sklearn.model_selection import train_test_split \nX_train, X_test, y_train, y_test=train_test_split(X,y,test_size=0.3, random_state=4)\n#xtrain, xval, ytrain, yval = train_test_split(xtrain, ytrain, test_size=0.2) \n\nprint('Train set:', X_train.shape,y_train.shape)\nprint('Test set:',X_test.shape, y_test.shape)\nnp.array(np.unique(y_test, return_counts=True)).T\n"
        },
        {
            "cell_type": "markdown",
            "metadata": {},
            "source": "### K-Nearest Neighbors (KNN)"
        },
        {
            "cell_type": "raw",
            "metadata": {},
            "source": "Search for the best performing K and then I will fit the model with the training set and evaluat it with the test set.\nDue to the size of the dataset, I will reduce the training and evaluation sets to the half of them in the process of searching for the optimum K."
        },
        {
            "cell_type": "code",
            "execution_count": 236,
            "metadata": {},
            "outputs": [
                {
                    "data": {
                        "text/plain": "(66305, 28417)"
                    },
                    "execution_count": 236,
                    "metadata": {},
                    "output_type": "execute_result"
                }
            ],
            "source": "from sklearn.metrics import jaccard_similarity_score, classification_report, precision_score, recall_score, accuracy_score\n#Search for the best K\ntt = X_train.shape[0]\ntv = X_test.shape[0]\nX_train[int(tt*0.5):].shape[0], X_test[int(tv*0.5):].shape[0]\n\n\n\n"
        },
        {
            "cell_type": "code",
            "execution_count": 238,
            "metadata": {},
            "outputs": [
                {
                    "name": "stdout",
                    "output_type": "stream",
                    "text": "Best performing K is 14 with an accuracy of 0.6813175212020973\n"
                }
            ],
            "source": "ks = 17\nmean_acc = np.zeros(ks-1)\nstd_acc = np.zeros(ks-1)\n\nfor n in range(1,ks):\n    neigh = KNeighborsClassifier(n_neighbors = n).fit(X_train[int(tt*0.5):],y_train[int(tt*0.5):])\n    KyHat = neigh.predict(X_test[int(tv*0.5):])\n    mean_acc[n-1] = accuracy_score(y_test[int(tv*0.5):],KyHat)\n    std_acc[n-1] = np.std(KyHat==y_test[int(tv*0.5):])/np.sqrt(KyHat.shape[0])\nprint('Best performing K is '+ str(mean_acc.argmax()+1) + ' with an accuracy of ' +str(mean_acc.max()))\n"
        },
        {
            "cell_type": "markdown",
            "metadata": {},
            "source": ""
        },
        {
            "cell_type": "code",
            "execution_count": 255,
            "metadata": {},
            "outputs": [],
            "source": "\n\nfrom sklearn.neighbors import KNeighborsClassifier\nk=14\n\n"
        },
        {
            "cell_type": "code",
            "execution_count": 240,
            "metadata": {},
            "outputs": [
                {
                    "data": {
                        "text/plain": "array([[    1, 92560],\n       [    2, 40050]])"
                    },
                    "execution_count": 240,
                    "metadata": {},
                    "output_type": "execute_result"
                }
            ],
            "source": "neigh = KNeighborsClassifier(n_neighbors=k).fit(X_train,y_train)\n\nnp.array(np.unique(y_train, return_counts=True)).T\n\n#neigh"
        },
        {
            "cell_type": "code",
            "execution_count": 241,
            "metadata": {},
            "outputs": [
                {
                    "data": {
                        "text/plain": "array([[    1, 54184],\n       [    2,  2649]])"
                    },
                    "execution_count": 241,
                    "metadata": {},
                    "output_type": "execute_result"
                }
            ],
            "source": "KyHat = neigh.predict(X_test)\nnp.array(np.unique(KyHat, return_counts=True)).T"
        },
        {
            "cell_type": "markdown",
            "metadata": {},
            "source": "### Decision Tree Analysis"
        },
        {
            "cell_type": "code",
            "execution_count": 242,
            "metadata": {},
            "outputs": [
                {
                    "data": {
                        "text/plain": "DecisionTreeClassifier(class_weight=None, criterion='entropy', max_depth=5,\n            max_features=None, max_leaf_nodes=None,\n            min_impurity_decrease=0.0, min_impurity_split=None,\n            min_samples_leaf=1, min_samples_split=2,\n            min_weight_fraction_leaf=0.0, presort=False, random_state=None,\n            splitter='best')"
                    },
                    "execution_count": 242,
                    "metadata": {},
                    "output_type": "execute_result"
                }
            ],
            "source": "from sklearn.tree import DecisionTreeClassifier\nAccTree = DecisionTreeClassifier(criterion=\"entropy\",max_depth=5)\nAccTree\nAccTree.fit(X_train,y_train)"
        },
        {
            "cell_type": "code",
            "execution_count": null,
            "metadata": {},
            "outputs": [],
            "source": ""
        },
        {
            "cell_type": "code",
            "execution_count": 243,
            "metadata": {},
            "outputs": [],
            "source": "DTyHat=AccTree.predict(X_test)\n#np.array(np.unique(DTyHat, return_counts=True)).T\n#np.array(np.unique(y_test, return_counts=True)).T"
        },
        {
            "cell_type": "markdown",
            "metadata": {},
            "source": "### Logistic Regression\n"
        },
        {
            "cell_type": "code",
            "execution_count": 244,
            "metadata": {},
            "outputs": [
                {
                    "name": "stdout",
                    "output_type": "stream",
                    "text": "Coefficients [[-0.0177224  -0.2689197   0.05618802  0.01975951]]\nIntercept [-0.85423642]\n"
                }
            ],
            "source": "from sklearn.linear_model import LogisticRegression\nfrom sklearn.metrics import confusion_matrix\nfrom sklearn.metrics import r2_score\n\n\nLR=LogisticRegression(C=10,solver='liblinear').fit(X_train,y_train)\nLR\nprint('Coefficients', LR.coef_)\nprint('Intercept', LR.intercept_)"
        },
        {
            "cell_type": "code",
            "execution_count": 245,
            "metadata": {},
            "outputs": [
                {
                    "data": {
                        "text/plain": "array([[    1, 56833]])"
                    },
                    "execution_count": 245,
                    "metadata": {},
                    "output_type": "execute_result"
                }
            ],
            "source": "LRyHat=LR.predict(X_test)\nnp.array(np.unique(LRyHat, return_counts=True)).T"
        },
        {
            "cell_type": "code",
            "execution_count": 246,
            "metadata": {},
            "outputs": [
                {
                    "data": {
                        "text/plain": "array([[0.65438991, 0.34561009],\n       [0.65701008, 0.34298992],\n       [0.66090073, 0.33909927],\n       ...,\n       [0.65281911, 0.34718089],\n       [0.80718087, 0.19281913],\n       [0.78173259, 0.21826741]])"
                    },
                    "execution_count": 246,
                    "metadata": {},
                    "output_type": "execute_result"
                }
            ],
            "source": "LRyHat_prob=LR.predict_proba(X_test)\nLRyHat_prob"
        },
        {
            "cell_type": "code",
            "execution_count": null,
            "metadata": {},
            "outputs": [],
            "source": ""
        },
        {
            "cell_type": "code",
            "execution_count": null,
            "metadata": {},
            "outputs": [],
            "source": ""
        },
        {
            "cell_type": "markdown",
            "metadata": {},
            "source": "# Results and Evaluation"
        },
        {
            "cell_type": "markdown",
            "metadata": {},
            "source": "Accuracy Check of the models\n"
        },
        {
            "cell_type": "markdown",
            "metadata": {},
            "source": "### KNN"
        },
        {
            "cell_type": "code",
            "execution_count": 247,
            "metadata": {},
            "outputs": [
                {
                    "data": {
                        "text/plain": "0.6858691253321134"
                    },
                    "execution_count": 247,
                    "metadata": {},
                    "output_type": "execute_result"
                }
            ],
            "source": "#Jaccard Simiality Score\n\nfrom sklearn.metrics import jaccard_similarity_score, classification_report, precision_score, recall_score\njaccard_similarity_score(y_test,KyHat)"
        },
        {
            "cell_type": "code",
            "execution_count": 248,
            "metadata": {},
            "outputs": [
                {
                    "name": "stdout",
                    "output_type": "stream",
                    "text": "Jaccard : 0.6858691253321134 \n               precision    recall  f1-score   support\n\n           1       0.70      0.96      0.81     39799\n           2       0.35      0.05      0.09     17034\n\n   micro avg       0.69      0.69      0.69     56833\n   macro avg       0.52      0.51      0.45     56833\nweighted avg       0.60      0.69      0.60     56833\n\n"
                }
            ],
            "source": "\njaccard_knn = jaccard_similarity_score(y_test,KyHat)\nc_knn = classification_report(y_test,KyHat)\nprec_knn = precision_score(y_test, KyHat)\nrec_knn = recall_score(y_test, KyHat)\nprint('Jaccard :',jaccard_knn,'\\n',\n     c_knn)"
        },
        {
            "cell_type": "markdown",
            "metadata": {},
            "source": "### Decision Tree"
        },
        {
            "cell_type": "code",
            "execution_count": 249,
            "metadata": {},
            "outputs": [],
            "source": "#Jaccard Simiality Score\n\n"
        },
        {
            "cell_type": "code",
            "execution_count": 250,
            "metadata": {},
            "outputs": [
                {
                    "name": "stdout",
                    "output_type": "stream",
                    "text": "Jaccard : 0.7002797670367568 \n               precision    recall  f1-score   support\n\n           1       0.70      1.00      0.82     39799\n           2       0.00      0.00      0.00     17034\n\n   micro avg       0.70      0.70      0.70     56833\n   macro avg       0.35      0.50      0.41     56833\nweighted avg       0.49      0.70      0.58     56833\n\n"
                },
                {
                    "name": "stderr",
                    "output_type": "stream",
                    "text": "/opt/conda/envs/Python36/lib/python3.6/site-packages/sklearn/metrics/classification.py:1143: UndefinedMetricWarning: Precision and F-score are ill-defined and being set to 0.0 in labels with no predicted samples.\n  'precision', 'predicted', average, warn_for)\n"
                }
            ],
            "source": "jaccard_rf = jaccard_similarity_score(y_test,DTyHat)\nc_rf = classification_report(y_test,DTyHat)\nprec_rf = precision_score(y_test, DTyHat)\nrec_rf = recall_score(y_test, DTyHat)\nprint('Jaccard :',jaccard_rf,'\\n',\n     c_rf)"
        },
        {
            "cell_type": "markdown",
            "metadata": {},
            "source": "### Logistic Regression"
        },
        {
            "cell_type": "code",
            "execution_count": 251,
            "metadata": {},
            "outputs": [
                {
                    "data": {
                        "text/plain": "0.0"
                    },
                    "execution_count": 251,
                    "metadata": {},
                    "output_type": "execute_result"
                }
            ],
            "source": "r2_score(LRyHat, y_test)"
        },
        {
            "cell_type": "code",
            "execution_count": 252,
            "metadata": {},
            "outputs": [
                {
                    "name": "stdout",
                    "output_type": "stream",
                    "text": "R2 score:\n"
                }
            ],
            "source": "print(\"R2 score:\"% r2_score(LRyHat, y_test))"
        },
        {
            "cell_type": "code",
            "execution_count": 253,
            "metadata": {},
            "outputs": [
                {
                    "data": {
                        "text/plain": "0.6036866294979948"
                    },
                    "execution_count": 253,
                    "metadata": {},
                    "output_type": "execute_result"
                }
            ],
            "source": "from sklearn.metrics import log_loss\nlog_loss(y_test,LRyHat_prob)"
        },
        {
            "cell_type": "code",
            "execution_count": 254,
            "metadata": {},
            "outputs": [
                {
                    "name": "stdout",
                    "output_type": "stream",
                    "text": "Jaccard : 0.7002797670367568 \n               precision    recall  f1-score   support\n\n           1       0.70      1.00      0.82     39799\n           2       0.00      0.00      0.00     17034\n\n   micro avg       0.70      0.70      0.70     56833\n   macro avg       0.35      0.50      0.41     56833\nweighted avg       0.49      0.70      0.58     56833\n\n"
                },
                {
                    "name": "stderr",
                    "output_type": "stream",
                    "text": "/opt/conda/envs/Python36/lib/python3.6/site-packages/sklearn/metrics/classification.py:1143: UndefinedMetricWarning: Precision and F-score are ill-defined and being set to 0.0 in labels with no predicted samples.\n  'precision', 'predicted', average, warn_for)\n"
                }
            ],
            "source": "jaccard_lr = jaccard_similarity_score(y_test,LRyHat)\nc_lr = classification_report(y_test,LRyHat)\nprec_lr = precision_score(y_test, LRyHat)\nrec_lr = recall_score(y_test, LRyHat)\nprint('Jaccard :',jaccard_lr,'\\n',\n     c_lr)"
        },
        {
            "cell_type": "code",
            "execution_count": null,
            "metadata": {},
            "outputs": [],
            "source": ""
        }
    ],
    "metadata": {
        "kernelspec": {
            "display_name": "Python 3.6",
            "language": "python",
            "name": "python3"
        },
        "language_info": {
            "codemirror_mode": {
                "name": "ipython",
                "version": 3
            },
            "file_extension": ".py",
            "mimetype": "text/x-python",
            "name": "python",
            "nbconvert_exporter": "python",
            "pygments_lexer": "ipython3",
            "version": "3.6.9"
        }
    },
    "nbformat": 4,
    "nbformat_minor": 1
}